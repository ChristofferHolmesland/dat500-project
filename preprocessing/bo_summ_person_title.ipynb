{
 "cells": [
  {
   "cell_type": "code",
   "execution_count": 1,
   "metadata": {},
   "outputs": [],
   "source": [
    "import pandas as pd\n",
    "import numpy as np\n",
    "import gzip\n",
    "from imdb import IMDb\n",
    "\n",
    "\n",
    "from bs4 import BeautifulSoup\n",
    "import requests\n",
    "import re\n",
    "import random\n",
    "\n",
    "im = IMDb()"
   ]
  },
  {
   "cell_type": "code",
   "execution_count": 2,
   "metadata": {},
   "outputs": [],
   "source": [
    "#title_filepath='name.basics.tsv.gz'\n",
    "file_path='C:/Users/malav/Desktop/dat500-project/title.tsv'\n",
    "titles=[]\n",
    "t_ids=[]\n",
    "actor=[]\n",
    "movies=[]"
   ]
  },
  {
   "cell_type": "code",
   "execution_count": 3,
   "metadata": {},
   "outputs": [],
   "source": [
    "\n",
    "#Extracting titleIDs from title_filepath\n",
    "def get_ids(file_path):\n",
    "    data=pd.read_csv(file_path,delimiter='\\t')\n",
    "    for i in data['tconst']:\n",
    "        t_ids.append(str(i[2:9]))\n",
    "    return(t_ids)"
   ]
  },
  {
   "cell_type": "code",
   "execution_count": null,
   "metadata": {},
   "outputs": [],
   "source": []
  },
  {
   "cell_type": "code",
   "execution_count": null,
   "metadata": {},
   "outputs": [],
   "source": []
  },
  {
   "cell_type": "code",
   "execution_count": null,
   "metadata": {},
   "outputs": [],
   "source": []
  },
  {
   "cell_type": "code",
   "execution_count": null,
   "metadata": {},
   "outputs": [],
   "source": [
    "#Pairing up TitleIDs and Corresponding PersonIds\n",
    "def title_person(ids):\n",
    "    for ID in t_ids:\n",
    "        titles.append(im.get_movie(ID)['title'])\n",
    "        movies.append(im.get_movie(ID))\n",
    "        for movie in movies:\n",
    "            cast=[]\n",
    "            if movie.get('cast'):\n",
    "                cast.append(movie.get('cast')[:3])\n",
    "            for stars in cast:\n",
    "                ids=[]\n",
    "                for n in stars:\n",
    "                    ids.append(n.personID)\n",
    "                dict = {ID : ids}\n",
    "            (actor.append(dict))\n",
    "    return(actor)"
   ]
  },
  {
   "cell_type": "code",
   "execution_count": null,
   "metadata": {},
   "outputs": [],
   "source": [
    "def title_person(ids):\n",
    "    for ID in t_ids:\n",
    "        title=(im.get_movie(ID)['title'])\n",
    "        movie=(im.get_movie(ID))\n",
    "        cast=[]\n",
    "        if movie.get('cast'):\n",
    "            cast.append(movie.get('cast')[:3])\n",
    "            "
   ]
  },
  {
   "cell_type": "code",
   "execution_count": null,
   "metadata": {},
   "outputs": [],
   "source": [
    "dat=[]\n",
    "for ID in t_ids[:5]:\n",
    "        movie=(im.get_movie(ID))\n",
    "        title=movie['title']\n",
    "        #print(title)\n",
    "        cast=[]\n",
    "        if movie.get('cast'):\n",
    "            actors=[]\n",
    "            for stars in movie.get('cast')[:3]:\n",
    "                actors.append(stars.personID)\n",
    "                dat.append(ID,actors)\n",
    "        da=pd.DataFrame(dat)\n",
    "            "
   ]
  },
  {
   "cell_type": "code",
   "execution_count": null,
   "metadata": {},
   "outputs": [],
   "source": [
    "dat"
   ]
  },
  {
   "cell_type": "code",
   "execution_count": null,
   "metadata": {},
   "outputs": [],
   "source": [
    "#Constructing the URLwith titleIDs \n",
    "def get_url(ids):\n",
    "    urls=[]\n",
    "    #uniq.t_ids=(list(set(t_ids)))\n",
    "    for i in range(0,len(t_ids)):\n",
    "        url = 'https://www.imdb.com/title/tt'\n",
    "        (urls.append(url+t_ids[i]))\n",
    "    return(urls)"
   ]
  },
  {
   "cell_type": "code",
   "execution_count": null,
   "metadata": {},
   "outputs": [],
   "source": []
  },
  {
   "cell_type": "code",
   "execution_count": null,
   "metadata": {},
   "outputs": [],
   "source": []
  },
  {
   "cell_type": "code",
   "execution_count": null,
   "metadata": {},
   "outputs": [],
   "source": []
  },
  {
   "cell_type": "code",
   "execution_count": 4,
   "metadata": {},
   "outputs": [],
   "source": [
    "#Title summary (web scraped)\n",
    "def get_summary(url):\n",
    "    movie_page = requests.get(url)\n",
    "    soup = BeautifulSoup(movie_page.text, 'html.parser')\n",
    "    return (soup.find(\"div\", class_=\"summary_text\").contents[0].strip())"
   ]
  },
  {
   "cell_type": "code",
   "execution_count": 5,
   "metadata": {},
   "outputs": [],
   "source": [
    "#Box office collection (web scraped)\n",
    "def box_office(url):\n",
    "    movie_page = requests.get(url)\n",
    "    soup = BeautifulSoup(movie_page.text, 'html.parser')\n",
    "    for a in soup.find_all(\"div\", class_=\"txt-block\"):\n",
    "        if len(a.contents) > 2:\n",
    "            for i in a.contents[1]:\n",
    "                if i == 'Cumulative Worldwide Gross:':\n",
    "                    return(a.contents[2])\n",
    "                else:\n",
    "                    return('-')"
   ]
  },
  {
   "cell_type": "code",
   "execution_count": 6,
   "metadata": {},
   "outputs": [],
   "source": [
    "\n",
    "# 1) get_ids()\n",
    "t_ids=get_ids(file_path)"
   ]
  },
  {
   "cell_type": "code",
   "execution_count": 7,
   "metadata": {},
   "outputs": [
    {
     "name": "stderr",
     "output_type": "stream",
     "text": [
      "2020-02-19 18:50:49,220 CRITICAL [imdbpy] c:\\users\\malav\\appdata\\local\\programs\\python\\python37-32\\lib\\site-packages\\imdb\\_exceptions.py:34: IMDbDataAccessError exception raised; args: ({'errcode': None, 'errmsg': 'None', 'url': 'https://www.imdb.com/title/tt0000908/reference', 'proxy': '', 'exception type': 'IOError', 'original exception': URLError(TimeoutError(10060, 'A connection attempt failed because the connected party did not properly respond after a period of time, or established connection failed because connected host has failed to respond', None, 10060, None))},); kwds: {}\n",
      "Traceback (most recent call last):\n",
      "  File \"c:\\users\\malav\\appdata\\local\\programs\\python\\python37-32\\lib\\urllib\\request.py\", line 1317, in do_open\n",
      "    encode_chunked=req.has_header('Transfer-encoding'))\n",
      "  File \"c:\\users\\malav\\appdata\\local\\programs\\python\\python37-32\\lib\\http\\client.py\", line 1244, in request\n",
      "    self._send_request(method, url, body, headers, encode_chunked)\n",
      "  File \"c:\\users\\malav\\appdata\\local\\programs\\python\\python37-32\\lib\\http\\client.py\", line 1290, in _send_request\n",
      "    self.endheaders(body, encode_chunked=encode_chunked)\n",
      "  File \"c:\\users\\malav\\appdata\\local\\programs\\python\\python37-32\\lib\\http\\client.py\", line 1239, in endheaders\n",
      "    self._send_output(message_body, encode_chunked=encode_chunked)\n",
      "  File \"c:\\users\\malav\\appdata\\local\\programs\\python\\python37-32\\lib\\http\\client.py\", line 1026, in _send_output\n",
      "    self.send(msg)\n",
      "  File \"c:\\users\\malav\\appdata\\local\\programs\\python\\python37-32\\lib\\http\\client.py\", line 966, in send\n",
      "    self.connect()\n",
      "  File \"c:\\users\\malav\\appdata\\local\\programs\\python\\python37-32\\lib\\http\\client.py\", line 1406, in connect\n",
      "    super().connect()\n",
      "  File \"c:\\users\\malav\\appdata\\local\\programs\\python\\python37-32\\lib\\http\\client.py\", line 938, in connect\n",
      "    (self.host,self.port), self.timeout, self.source_address)\n",
      "  File \"c:\\users\\malav\\appdata\\local\\programs\\python\\python37-32\\lib\\socket.py\", line 727, in create_connection\n",
      "    raise err\n",
      "  File \"c:\\users\\malav\\appdata\\local\\programs\\python\\python37-32\\lib\\socket.py\", line 716, in create_connection\n",
      "    sock.connect(sa)\n",
      "TimeoutError: [WinError 10060] A connection attempt failed because the connected party did not properly respond after a period of time, or established connection failed because connected host has failed to respond\n",
      "\n",
      "During handling of the above exception, another exception occurred:\n",
      "\n",
      "Traceback (most recent call last):\n",
      "  File \"c:\\users\\malav\\appdata\\local\\programs\\python\\python37-32\\lib\\site-packages\\imdb\\parser\\http\\__init__.py\", line 219, in retrieve_unicode\n",
      "    response = uopener.open(url)\n",
      "  File \"c:\\users\\malav\\appdata\\local\\programs\\python\\python37-32\\lib\\urllib\\request.py\", line 525, in open\n",
      "    response = self._open(req, data)\n",
      "  File \"c:\\users\\malav\\appdata\\local\\programs\\python\\python37-32\\lib\\urllib\\request.py\", line 543, in _open\n",
      "    '_open', req)\n",
      "  File \"c:\\users\\malav\\appdata\\local\\programs\\python\\python37-32\\lib\\urllib\\request.py\", line 503, in _call_chain\n",
      "    result = func(*args)\n",
      "  File \"c:\\users\\malav\\appdata\\local\\programs\\python\\python37-32\\lib\\urllib\\request.py\", line 1360, in https_open\n",
      "    context=self._context, check_hostname=self._check_hostname)\n",
      "  File \"c:\\users\\malav\\appdata\\local\\programs\\python\\python37-32\\lib\\urllib\\request.py\", line 1319, in do_open\n",
      "    raise URLError(err)\n",
      "urllib.error.URLError: <urlopen error [WinError 10060] A connection attempt failed because the connected party did not properly respond after a period of time, or established connection failed because connected host has failed to respond>\n",
      "2020-02-19 18:50:49,220 CRITICAL [imdbpy] c:\\users\\malav\\appdata\\local\\programs\\python\\python37-32\\lib\\site-packages\\imdb\\__init__.py:737: caught an exception retrieving or parsing \"main\" info set for mopID \"0000908\" (accessSystem: http)\n",
      "Traceback (most recent call last):\n",
      "  File \"c:\\users\\malav\\appdata\\local\\programs\\python\\python37-32\\lib\\urllib\\request.py\", line 1317, in do_open\n",
      "    encode_chunked=req.has_header('Transfer-encoding'))\n",
      "  File \"c:\\users\\malav\\appdata\\local\\programs\\python\\python37-32\\lib\\http\\client.py\", line 1244, in request\n",
      "    self._send_request(method, url, body, headers, encode_chunked)\n",
      "  File \"c:\\users\\malav\\appdata\\local\\programs\\python\\python37-32\\lib\\http\\client.py\", line 1290, in _send_request\n",
      "    self.endheaders(body, encode_chunked=encode_chunked)\n",
      "  File \"c:\\users\\malav\\appdata\\local\\programs\\python\\python37-32\\lib\\http\\client.py\", line 1239, in endheaders\n",
      "    self._send_output(message_body, encode_chunked=encode_chunked)\n",
      "  File \"c:\\users\\malav\\appdata\\local\\programs\\python\\python37-32\\lib\\http\\client.py\", line 1026, in _send_output\n",
      "    self.send(msg)\n",
      "  File \"c:\\users\\malav\\appdata\\local\\programs\\python\\python37-32\\lib\\http\\client.py\", line 966, in send\n",
      "    self.connect()\n",
      "  File \"c:\\users\\malav\\appdata\\local\\programs\\python\\python37-32\\lib\\http\\client.py\", line 1406, in connect\n",
      "    super().connect()\n",
      "  File \"c:\\users\\malav\\appdata\\local\\programs\\python\\python37-32\\lib\\http\\client.py\", line 938, in connect\n",
      "    (self.host,self.port), self.timeout, self.source_address)\n",
      "  File \"c:\\users\\malav\\appdata\\local\\programs\\python\\python37-32\\lib\\socket.py\", line 727, in create_connection\n",
      "    raise err\n",
      "  File \"c:\\users\\malav\\appdata\\local\\programs\\python\\python37-32\\lib\\socket.py\", line 716, in create_connection\n",
      "    sock.connect(sa)\n",
      "TimeoutError: [WinError 10060] A connection attempt failed because the connected party did not properly respond after a period of time, or established connection failed because connected host has failed to respond\n",
      "\n",
      "During handling of the above exception, another exception occurred:\n",
      "\n",
      "Traceback (most recent call last):\n",
      "  File \"c:\\users\\malav\\appdata\\local\\programs\\python\\python37-32\\lib\\site-packages\\imdb\\parser\\http\\__init__.py\", line 219, in retrieve_unicode\n",
      "    response = uopener.open(url)\n",
      "  File \"c:\\users\\malav\\appdata\\local\\programs\\python\\python37-32\\lib\\urllib\\request.py\", line 525, in open\n",
      "    response = self._open(req, data)\n",
      "  File \"c:\\users\\malav\\appdata\\local\\programs\\python\\python37-32\\lib\\urllib\\request.py\", line 543, in _open\n",
      "    '_open', req)\n",
      "  File \"c:\\users\\malav\\appdata\\local\\programs\\python\\python37-32\\lib\\urllib\\request.py\", line 503, in _call_chain\n",
      "    result = func(*args)\n",
      "  File \"c:\\users\\malav\\appdata\\local\\programs\\python\\python37-32\\lib\\urllib\\request.py\", line 1360, in https_open\n",
      "    context=self._context, check_hostname=self._check_hostname)\n",
      "  File \"c:\\users\\malav\\appdata\\local\\programs\\python\\python37-32\\lib\\urllib\\request.py\", line 1319, in do_open\n",
      "    raise URLError(err)\n",
      "urllib.error.URLError: <urlopen error [WinError 10060] A connection attempt failed because the connected party did not properly respond after a period of time, or established connection failed because connected host has failed to respond>\n",
      "\n",
      "During handling of the above exception, another exception occurred:\n",
      "\n",
      "Traceback (most recent call last):\n",
      "  File \"c:\\users\\malav\\appdata\\local\\programs\\python\\python37-32\\lib\\site-packages\\imdb\\__init__.py\", line 732, in update\n",
      "    ret = method(mopID)\n",
      "  File \"c:\\users\\malav\\appdata\\local\\programs\\python\\python37-32\\lib\\site-packages\\imdb\\parser\\http\\__init__.py\", line 439, in get_movie_main\n",
      "    cont = self._retrieve(self.urls['movie_main'] % movieID + 'reference')\n",
      "  File \"c:\\users\\malav\\appdata\\local\\programs\\python\\python37-32\\lib\\site-packages\\imdb\\parser\\http\\__init__.py\", line 376, in _retrieve\n",
      "    ret = self.urlOpener.retrieve_unicode(url, size=size)\n",
      "  File \"c:\\users\\malav\\appdata\\local\\programs\\python\\python37-32\\lib\\site-packages\\imdb\\parser\\http\\__init__.py\", line 253, in retrieve_unicode\n",
      "    'original exception': e}\n",
      "imdb._exceptions.IMDbDataAccessError: {'errcode': None, 'errmsg': 'None', 'url': 'https://www.imdb.com/title/tt0000908/reference', 'proxy': '', 'exception type': 'IOError', 'original exception': URLError(TimeoutError(10060, 'A connection attempt failed because the connected party did not properly respond after a period of time, or established connection failed because connected host has failed to respond', None, 10060, None))}\n"
     ]
    },
    {
     "ename": "KeyError",
     "evalue": "'title'",
     "output_type": "error",
     "traceback": [
      "\u001b[1;31m---------------------------------------------------------------------------\u001b[0m",
      "\u001b[1;31mKeyError\u001b[0m                                  Traceback (most recent call last)",
      "\u001b[1;32m<ipython-input-7-5c5b06fa8115>\u001b[0m in \u001b[0;36m<module>\u001b[1;34m\u001b[0m\n\u001b[0;32m      5\u001b[0m \u001b[1;33m\u001b[0m\u001b[0m\n\u001b[0;32m      6\u001b[0m \u001b[1;32mfor\u001b[0m \u001b[0mID\u001b[0m \u001b[1;32min\u001b[0m \u001b[0mt_ids\u001b[0m\u001b[1;33m:\u001b[0m\u001b[1;33m\u001b[0m\u001b[1;33m\u001b[0m\u001b[0m\n\u001b[1;32m----> 7\u001b[1;33m     \u001b[0mname\u001b[0m\u001b[1;33m=\u001b[0m\u001b[1;33m(\u001b[0m\u001b[0mim\u001b[0m\u001b[1;33m.\u001b[0m\u001b[0mget_movie\u001b[0m\u001b[1;33m(\u001b[0m\u001b[0mID\u001b[0m\u001b[1;33m)\u001b[0m\u001b[1;33m[\u001b[0m\u001b[1;34m'title'\u001b[0m\u001b[1;33m]\u001b[0m\u001b[1;33m)\u001b[0m\u001b[1;33m\u001b[0m\u001b[1;33m\u001b[0m\u001b[0m\n\u001b[0m\u001b[0;32m      8\u001b[0m     \u001b[0murl\u001b[0m\u001b[1;33m=\u001b[0m\u001b[1;34m'https://www.imdb.com/title/tt'\u001b[0m\u001b[1;33m+\u001b[0m\u001b[0mID\u001b[0m\u001b[1;33m\u001b[0m\u001b[1;33m\u001b[0m\u001b[0m\n\u001b[0;32m      9\u001b[0m     \u001b[0msumm\u001b[0m\u001b[1;33m=\u001b[0m\u001b[1;33m(\u001b[0m\u001b[0mget_summary\u001b[0m\u001b[1;33m(\u001b[0m\u001b[0murl\u001b[0m\u001b[1;33m)\u001b[0m\u001b[1;33m)\u001b[0m\u001b[1;33m\u001b[0m\u001b[1;33m\u001b[0m\u001b[0m\n",
      "\u001b[1;32mc:\\users\\malav\\appdata\\local\\programs\\python\\python37-32\\lib\\site-packages\\imdb\\utils.py\u001b[0m in \u001b[0;36m__getitem__\u001b[1;34m(self, key)\u001b[0m\n\u001b[0;32m   1502\u001b[0m         \u001b[1;31m# Handle key aliases.\u001b[0m\u001b[1;33m\u001b[0m\u001b[1;33m\u001b[0m\u001b[1;33m\u001b[0m\u001b[0m\n\u001b[0;32m   1503\u001b[0m         \u001b[0mkey\u001b[0m \u001b[1;33m=\u001b[0m \u001b[0mself\u001b[0m\u001b[1;33m.\u001b[0m\u001b[0mkeys_alias\u001b[0m\u001b[1;33m.\u001b[0m\u001b[0mget\u001b[0m\u001b[1;33m(\u001b[0m\u001b[0mkey\u001b[0m\u001b[1;33m,\u001b[0m \u001b[0mkey\u001b[0m\u001b[1;33m)\u001b[0m\u001b[1;33m\u001b[0m\u001b[1;33m\u001b[0m\u001b[0m\n\u001b[1;32m-> 1504\u001b[1;33m         \u001b[0mrawData\u001b[0m \u001b[1;33m=\u001b[0m \u001b[0mself\u001b[0m\u001b[1;33m.\u001b[0m\u001b[0mdata\u001b[0m\u001b[1;33m[\u001b[0m\u001b[0mkey\u001b[0m\u001b[1;33m]\u001b[0m\u001b[1;33m\u001b[0m\u001b[1;33m\u001b[0m\u001b[0m\n\u001b[0m\u001b[0;32m   1505\u001b[0m         \u001b[1;32mif\u001b[0m \u001b[0mkey\u001b[0m \u001b[1;32min\u001b[0m \u001b[0mself\u001b[0m\u001b[1;33m.\u001b[0m\u001b[0mkeys_tomodify\u001b[0m \u001b[1;32mand\u001b[0m\u001b[0;31m \u001b[0m\u001b[0;31m\\\u001b[0m\u001b[1;33m\u001b[0m\u001b[1;33m\u001b[0m\u001b[0m\n\u001b[0;32m   1506\u001b[0m                 \u001b[0mself\u001b[0m\u001b[1;33m.\u001b[0m\u001b[0mmodFunct\u001b[0m \u001b[1;32mnot\u001b[0m \u001b[1;32min\u001b[0m \u001b[1;33m(\u001b[0m\u001b[1;32mNone\u001b[0m\u001b[1;33m,\u001b[0m \u001b[0mmodNull\u001b[0m\u001b[1;33m)\u001b[0m\u001b[1;33m:\u001b[0m\u001b[1;33m\u001b[0m\u001b[1;33m\u001b[0m\u001b[0m\n",
      "\u001b[1;31mKeyError\u001b[0m: 'title'"
     ]
    }
   ],
   "source": [
    "data=[]\n",
    "\n",
    "# 3) get_summary() and box_office()\n",
    "\n",
    "\n",
    "for ID in t_ids:\n",
    "    name=(im.get_movie(ID)['title'])\n",
    "    url='https://www.imdb.com/title/tt'+ID\n",
    "    summ=(get_summary(url))\n",
    "    bo=(box_office(url))\n",
    "    data.append(['tt'+ID,name,url,summ,bo])\n",
    "    if ID \n",
    "\n",
    "df=pd.DataFrame(data)\n",
    "df.columns=['MovieID','Movie Name','Movie URL','Movie Summary', 'Box Office Collection']\n",
    "df.to_csv('C:/Users/malav/Desktop/dat500-project/Summary_BO.tsv', sep = '\\t')"
   ]
  },
  {
   "cell_type": "code",
   "execution_count": null,
   "metadata": {},
   "outputs": [],
   "source": [
    "df=pd.DataFrame(data)\n",
    "df.columns=['MovieID','Movie Name','Movie URL','Movie Summary', 'Box Office Collection']\n",
    "df"
   ]
  },
  {
   "cell_type": "code",
   "execution_count": null,
   "metadata": {},
   "outputs": [],
   "source": []
  }
 ],
 "metadata": {
  "kernelspec": {
   "display_name": "Python 3",
   "language": "python",
   "name": "python3"
  },
  "language_info": {
   "codemirror_mode": {
    "name": "ipython",
    "version": 3
   },
   "file_extension": ".py",
   "mimetype": "text/x-python",
   "name": "python",
   "nbconvert_exporter": "python",
   "pygments_lexer": "ipython3",
   "version": "3.7.4"
  }
 },
 "nbformat": 4,
 "nbformat_minor": 2
}
