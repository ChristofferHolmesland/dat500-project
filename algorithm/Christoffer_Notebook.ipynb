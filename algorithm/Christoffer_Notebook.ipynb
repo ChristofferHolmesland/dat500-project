{
 "cells": [
  {
   "cell_type": "code",
   "execution_count": 1,
   "metadata": {},
   "outputs": [],
   "source": [
    "import pandas as pd \n",
    "import numpy as np \n",
    "import ast\n",
    "import os\n",
    "import re\n",
    "import sys\n",
    "import ast\n",
    "import glob\n",
    "import itertools"
   ]
  },
  {
   "cell_type": "code",
   "execution_count": 2,
   "metadata": {},
   "outputs": [],
   "source": [
    "graph=pd.read_csv('../data/graph.tsv', sep='\\t')\n",
    "graph=graph.loc[:, ~graph.columns.str.contains('^Unnamed')]"
   ]
  },
  {
   "cell_type": "code",
   "execution_count": 3,
   "metadata": {},
   "outputs": [],
   "source": [
    "graph['values']=graph['values'].apply(lambda x: ast.literal_eval(x))\n",
    "graph['values']=graph['values'].apply(lambda x: list(x.items()))"
   ]
  },
  {
   "cell_type": "code",
   "execution_count": 5,
   "metadata": {},
   "outputs": [],
   "source": [
    "new_graph=graph.explode('values')"
   ]
  },
  {
   "cell_type": "code",
   "execution_count": 6,
   "metadata": {},
   "outputs": [],
   "source": [
    "new_graph[[\"to_node\", \"value\"]]= pd.DataFrame(new_graph[\"values\"].values.tolist(), index=new_graph.index)\n",
    "new_graph.drop(columns=[\"values\"], inplace=True)\n",
    "new_graph.set_index(keys=[\"key\", \"to_node\"], drop= True, inplace=True)"
   ]
  },
  {
   "cell_type": "code",
   "execution_count": 16,
   "metadata": {},
   "outputs": [],
   "source": [
    "path = r'../data' # use your path\n",
    "all_files = glob.glob(path + \"/*_actor.tsv\")\n",
    "li = []\n",
    "for filename in all_files:\n",
    "    df = pd.read_csv(filename, sep=\"\\t\", header=0)\n",
    "    li.append(df)"
   ]
  },
  {
   "cell_type": "code",
   "execution_count": null,
   "metadata": {},
   "outputs": [],
   "source": []
  },
  {
   "cell_type": "code",
   "execution_count": 18,
   "metadata": {},
   "outputs": [],
   "source": [
    "IDs=[]\n",
    "for i in range(len(li)):\n",
    "    ids=[]\n",
    "    for j in range(len(li[i])):\n",
    "        ids.append((li[i].iloc[j])[0])\n",
    "    IDs.append(ids)"
   ]
  },
  {
   "cell_type": "code",
   "execution_count": null,
   "metadata": {},
   "outputs": [],
   "source": []
  },
  {
   "cell_type": "code",
   "execution_count": 19,
   "metadata": {},
   "outputs": [],
   "source": [
    "Id_list = list(itertools.product(*IDs))"
   ]
  },
  {
   "cell_type": "code",
   "execution_count": null,
   "metadata": {},
   "outputs": [],
   "source": []
  },
  {
   "cell_type": "code",
   "execution_count": 27,
   "metadata": {},
   "outputs": [],
   "source": [
    "data=pd.DataFrame(Id_list)"
   ]
  },
  {
   "cell_type": "code",
   "execution_count": 40,
   "metadata": {},
   "outputs": [],
   "source": [
    "Id1=[]\n",
    "Id2=[]\n",
    "score=[]\n",
    "for i in range(len(IDs)):\n",
    "    for j in range(len(IDs[i])):\n",
    "        for m in range(i+1,len(IDs)):\n",
    "            if (i+1)<(len(IDs)):\n",
    "                for k in range(len(IDs[m])):\n",
    "                    a=IDs[i][j]\n",
    "                    b=IDs[m][k]\n",
    "                    Id1.append(a)\n",
    "                    Id2.append(b)"
   ]
  },
  {
   "cell_type": "code",
   "execution_count": 45,
   "metadata": {},
   "outputs": [],
   "source": [
    "l1 = len(set(IDs[0]))\n",
    "l2 = len(set(IDs[1]))\n",
    "l3 = len(set(IDs[2]))"
   ]
  },
  {
   "cell_type": "code",
   "execution_count": 46,
   "metadata": {},
   "outputs": [
    {
     "data": {
      "text/plain": [
       "2076"
      ]
     },
     "execution_count": 46,
     "metadata": {},
     "output_type": "execute_result"
    }
   ],
   "source": [
    "l1*l2 + l1*l3 + l2*l3"
   ]
  },
  {
   "cell_type": "code",
   "execution_count": 47,
   "metadata": {},
   "outputs": [
    {
     "data": {
      "text/plain": [
       "2076"
      ]
     },
     "execution_count": 47,
     "metadata": {},
     "output_type": "execute_result"
    }
   ],
   "source": [
    "len(Id1)"
   ]
  },
  {
   "cell_type": "code",
   "execution_count": 48,
   "metadata": {},
   "outputs": [],
   "source": [
    "combs = []\n",
    "for i in range(0, len(IDs)):\n",
    "    for j in range(i+1, len(IDs)):\n",
    "        combs.extend([(x, y) for x in IDs[i] for y in IDs[j]])"
   ]
  },
  {
   "cell_type": "code",
   "execution_count": null,
   "metadata": {},
   "outputs": [],
   "source": []
  },
  {
   "cell_type": "code",
   "execution_count": null,
   "metadata": {},
   "outputs": [],
   "source": []
  }
 ],
 "metadata": {
  "kernelspec": {
   "display_name": "Python 3.7.4 64-bit",
   "language": "python",
   "name": "python37464bit274386f8a40340ab9e7dffeca84d272b"
  },
  "language_info": {
   "codemirror_mode": {
    "name": "ipython",
    "version": 3
   },
   "file_extension": ".py",
   "mimetype": "text/x-python",
   "name": "python",
   "nbconvert_exporter": "python",
   "pygments_lexer": "ipython3",
   "version": "3.7.4"
  }
 },
 "nbformat": 4,
 "nbformat_minor": 2
}
