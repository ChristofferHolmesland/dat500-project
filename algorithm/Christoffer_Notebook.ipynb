{
 "cells": [
  {
   "cell_type": "code",
   "execution_count": 1,
   "metadata": {},
   "outputs": [],
   "source": [
    "import pandas as pd \n",
    "import numpy as np \n",
    "import ast\n",
    "import os\n",
    "import re\n",
    "import sys\n",
    "import ast\n",
    "import glob\n",
    "import itertools"
   ]
  },
  {
   "cell_type": "code",
   "execution_count": 2,
   "metadata": {},
   "outputs": [],
   "source": [
    "graph=pd.read_csv('../data/graph.tsv', sep='\\t')\n",
    "graph=graph.loc[:, ~graph.columns.str.contains('^Unnamed')]"
   ]
  },
  {
   "cell_type": "code",
   "execution_count": 3,
   "metadata": {},
   "outputs": [],
   "source": [
    "graph['values']=graph['values'].apply(lambda x: ast.literal_eval(x))\n",
    "graph['values']=graph['values'].apply(lambda x: list(x.items()))"
   ]
  },
  {
   "cell_type": "code",
   "execution_count": 5,
   "metadata": {},
   "outputs": [],
   "source": [
    "new_graph=graph.explode('values')"
   ]
  },
  {
   "cell_type": "code",
   "execution_count": 6,
   "metadata": {},
   "outputs": [],
   "source": [
    "new_graph[[\"to_node\", \"value\"]]= pd.DataFrame(new_graph[\"values\"].values.tolist(), index=new_graph.index)\n",
    "new_graph.drop(columns=[\"values\"], inplace=True)\n",
    "new_graph.set_index(keys=[\"key\", \"to_node\"], drop= True, inplace=True)"
   ]
  },
  {
   "cell_type": "code",
   "execution_count": 16,
   "metadata": {},
   "outputs": [],
   "source": [
    "path = r'../data' # use your path\n",
    "all_files = glob.glob(path + \"/*_actor.tsv\")\n",
    "li = []\n",
    "for filename in all_files:\n",
    "    df = pd.read_csv(filename, sep=\"\\t\", header=0)\n",
    "    li.append(df)"
   ]
  },
  {
   "cell_type": "code",
   "execution_count": null,
   "metadata": {},
   "outputs": [],
   "source": []
  },
  {
   "cell_type": "code",
   "execution_count": 18,
   "metadata": {},
   "outputs": [],
   "source": [
    "IDs=[]\n",
    "for i in range(len(li)):\n",
    "    ids=[]\n",
    "    for j in range(len(li[i])):\n",
    "        ids.append((li[i].iloc[j])[0])\n",
    "    IDs.append(ids)"
   ]
  },
  {
   "cell_type": "code",
   "execution_count": null,
   "metadata": {},
   "outputs": [],
   "source": []
  },
  {
   "cell_type": "code",
   "execution_count": 19,
   "metadata": {},
   "outputs": [],
   "source": [
    "Id_list = list(itertools.product(*IDs))"
   ]
  },
  {
   "cell_type": "code",
   "execution_count": null,
   "metadata": {},
   "outputs": [],
   "source": []
  },
  {
   "cell_type": "code",
   "execution_count": 27,
   "metadata": {},
   "outputs": [],
   "source": [
    "data=pd.DataFrame(Id_list)"
   ]
  },
  {
   "cell_type": "code",
   "execution_count": 40,
   "metadata": {},
   "outputs": [],
   "source": [
    "Id1=[]\n",
    "Id2=[]\n",
    "score=[]\n",
    "for i in range(len(IDs)):\n",
    "    for j in range(len(IDs[i])):\n",
    "        for m in range(i+1,len(IDs)):\n",
    "            if (i+1)<(len(IDs)):\n",
    "                for k in range(len(IDs[m])):\n",
    "                    a=IDs[i][j]\n",
    "                    b=IDs[m][k]\n",
    "                    Id1.append(a)\n",
    "                    Id2.append(b)"
   ]
  },
  {
   "cell_type": "code",
   "execution_count": 45,
   "metadata": {},
   "outputs": [],
   "source": [
    "l1 = len(set(IDs[0]))\n",
    "l2 = len(set(IDs[1]))\n",
    "l3 = len(set(IDs[2]))"
   ]
  },
  {
   "cell_type": "code",
   "execution_count": 46,
   "metadata": {},
   "outputs": [
    {
     "data": {
      "text/plain": [
       "2076"
      ]
     },
     "execution_count": 46,
     "metadata": {},
     "output_type": "execute_result"
    }
   ],
   "source": [
    "l1*l2 + l1*l3 + l2*l3"
   ]
  },
  {
   "cell_type": "code",
   "execution_count": 47,
   "metadata": {},
   "outputs": [
    {
     "data": {
      "text/plain": [
       "2076"
      ]
     },
     "execution_count": 47,
     "metadata": {},
     "output_type": "execute_result"
    }
   ],
   "source": [
    "len(Id1)"
   ]
  },
  {
   "cell_type": "code",
   "execution_count": 47,
   "metadata": {},
   "outputs": [],
   "source": [
    "combs = []\n",
    "for i in range(0, len(IDs)):\n",
    "    for j in range(i+1, len(IDs)):\n",
    "        combs.extend([(x, y, 1) for x in IDs[i] for y in IDs[j]])"
   ]
  },
  {
   "cell_type": "code",
   "execution_count": null,
   "metadata": {},
   "outputs": [],
   "source": []
  },
  {
   "cell_type": "code",
   "execution_count": 1,
   "metadata": {},
   "outputs": [
    {
     "data": {
      "text/plain": [
       "dict_values([1, 2, 3])"
      ]
     },
     "execution_count": 1,
     "metadata": {},
     "output_type": "execute_result"
    }
   ],
   "source": [
    "a = {\"a\": 1, \"b\": 2, \"c\": 3}\n",
    "a.values()"
   ]
  },
  {
   "cell_type": "code",
   "execution_count": 2,
   "metadata": {},
   "outputs": [
    {
     "data": {
      "text/plain": [
       "[1, 2, 3]"
      ]
     },
     "execution_count": 2,
     "metadata": {},
     "output_type": "execute_result"
    }
   ],
   "source": [
    "[b for b in a.values()]"
   ]
  },
  {
   "cell_type": "code",
   "execution_count": null,
   "metadata": {},
   "outputs": [],
   "source": []
  },
  {
   "cell_type": "code",
   "execution_count": 54,
   "metadata": {},
   "outputs": [],
   "source": [
    "d1 = pd.DataFrame(combs, columns=[\"ID1\", \"ID2\", \"Score\"])"
   ]
  },
  {
   "cell_type": "code",
   "execution_count": 56,
   "metadata": {},
   "outputs": [],
   "source": [
    "graph = pd.read_csv('../data/graph.tsv', sep='\\t')\n",
    "graph = graph.loc[:, ~graph.columns.str.contains('^Unnamed')]"
   ]
  },
  {
   "cell_type": "code",
   "execution_count": 57,
   "metadata": {},
   "outputs": [],
   "source": [
    "graph['values'] = graph['values'].apply(lambda x: list(ast.literal_eval(x).items()))"
   ]
  },
  {
   "cell_type": "code",
   "execution_count": 58,
   "metadata": {},
   "outputs": [
    {
     "data": {
      "text/html": [
       "<div>\n",
       "<style scoped>\n",
       "    .dataframe tbody tr th:only-of-type {\n",
       "        vertical-align: middle;\n",
       "    }\n",
       "\n",
       "    .dataframe tbody tr th {\n",
       "        vertical-align: top;\n",
       "    }\n",
       "\n",
       "    .dataframe thead th {\n",
       "        text-align: right;\n",
       "    }\n",
       "</style>\n",
       "<table border=\"1\" class=\"dataframe\">\n",
       "  <thead>\n",
       "    <tr style=\"text-align: right;\">\n",
       "      <th></th>\n",
       "      <th>key</th>\n",
       "      <th>values</th>\n",
       "    </tr>\n",
       "  </thead>\n",
       "  <tbody>\n",
       "    <tr>\n",
       "      <th>0</th>\n",
       "      <td>nm0000001</td>\n",
       "      <td>[(nm0949130, 2.5), (nm0001677, 2.2), (nm010356...</td>\n",
       "    </tr>\n",
       "    <tr>\n",
       "      <th>1</th>\n",
       "      <td>nm0000002</td>\n",
       "      <td>[(nm0150462, 2.0999999999999996), (nm0000007, ...</td>\n",
       "    </tr>\n",
       "    <tr>\n",
       "      <th>2</th>\n",
       "      <td>nm0000003</td>\n",
       "      <td>[(nm0131001, 4.3), (nm0894677, 4.3), (nm018135...</td>\n",
       "    </tr>\n",
       "    <tr>\n",
       "      <th>3</th>\n",
       "      <td>nm0000004</td>\n",
       "      <td>[(nm0161443, 3.2), (nm0000101, 2.0999999999999...</td>\n",
       "    </tr>\n",
       "    <tr>\n",
       "      <th>4</th>\n",
       "      <td>nm0000005</td>\n",
       "      <td>[(nm0090956, 2.7), (nm0433512, 2.7), (nm045803...</td>\n",
       "    </tr>\n",
       "    <tr>\n",
       "      <th>...</th>\n",
       "      <td>...</td>\n",
       "      <td>...</td>\n",
       "    </tr>\n",
       "    <tr>\n",
       "      <th>1131849</th>\n",
       "      <td>nm9993613</td>\n",
       "      <td>[(nm10720286, 4.0), (nm5063862, 4.0), (nm35495...</td>\n",
       "    </tr>\n",
       "    <tr>\n",
       "      <th>1131850</th>\n",
       "      <td>nm9993616</td>\n",
       "      <td>[(nm1391663, 3.5), (nm7444538, 3.5), (nm049125...</td>\n",
       "    </tr>\n",
       "    <tr>\n",
       "      <th>1131851</th>\n",
       "      <td>nm9993650</td>\n",
       "      <td>[(nm7144368, 4.8), (nm2066212, 4.8), (nm069022...</td>\n",
       "    </tr>\n",
       "    <tr>\n",
       "      <th>1131852</th>\n",
       "      <td>nm9993690</td>\n",
       "      <td>[(nm7815539, 3.5), (nm1666585, 3.5), (nm999369...</td>\n",
       "    </tr>\n",
       "    <tr>\n",
       "      <th>1131853</th>\n",
       "      <td>nm9993691</td>\n",
       "      <td>[(nm7815539, 3.5), (nm1666585, 3.5), (nm780397...</td>\n",
       "    </tr>\n",
       "  </tbody>\n",
       "</table>\n",
       "<p>1131854 rows × 2 columns</p>\n",
       "</div>"
      ],
      "text/plain": [
       "               key                                             values\n",
       "0        nm0000001  [(nm0949130, 2.5), (nm0001677, 2.2), (nm010356...\n",
       "1        nm0000002  [(nm0150462, 2.0999999999999996), (nm0000007, ...\n",
       "2        nm0000003  [(nm0131001, 4.3), (nm0894677, 4.3), (nm018135...\n",
       "3        nm0000004  [(nm0161443, 3.2), (nm0000101, 2.0999999999999...\n",
       "4        nm0000005  [(nm0090956, 2.7), (nm0433512, 2.7), (nm045803...\n",
       "...            ...                                                ...\n",
       "1131849  nm9993613  [(nm10720286, 4.0), (nm5063862, 4.0), (nm35495...\n",
       "1131850  nm9993616  [(nm1391663, 3.5), (nm7444538, 3.5), (nm049125...\n",
       "1131851  nm9993650  [(nm7144368, 4.8), (nm2066212, 4.8), (nm069022...\n",
       "1131852  nm9993690  [(nm7815539, 3.5), (nm1666585, 3.5), (nm999369...\n",
       "1131853  nm9993691  [(nm7815539, 3.5), (nm1666585, 3.5), (nm780397...\n",
       "\n",
       "[1131854 rows x 2 columns]"
      ]
     },
     "execution_count": 58,
     "metadata": {},
     "output_type": "execute_result"
    }
   ],
   "source": [
    "graph"
   ]
  },
  {
   "cell_type": "code",
   "execution_count": 59,
   "metadata": {},
   "outputs": [],
   "source": [
    "path = r'../data'\n",
    "all_files = glob.glob(path + \"/*_actor.tsv\")\n",
    "li = [pd.read_csv(filename, sep=\"\\t\", header=0) for filename in all_files]"
   ]
  },
  {
   "cell_type": "code",
   "execution_count": 60,
   "metadata": {},
   "outputs": [],
   "source": [
    "IDs = []\n",
    "for i in range(len(li)):\n",
    "    ids=[]\n",
    "    for j in range(len(li[i])):\n",
    "        ids.append((li[i].iloc[j])[0])\n",
    "    IDs.append(ids)"
   ]
  },
  {
   "cell_type": "code",
   "execution_count": 67,
   "metadata": {},
   "outputs": [],
   "source": [
    "IDs = [list(df[\"Actor ID\"]) for df in li]"
   ]
  },
  {
   "cell_type": "code",
   "execution_count": 69,
   "metadata": {},
   "outputs": [
    {
     "data": {
      "text/plain": [
       "[0, 1, 2, 3, 4, 5, 6]"
      ]
     },
     "execution_count": 69,
     "metadata": {},
     "output_type": "execute_result"
    }
   ],
   "source": [
    "[i for i in range(7)]"
   ]
  },
  {
   "cell_type": "code",
   "execution_count": 70,
   "metadata": {},
   "outputs": [
    {
     "data": {
      "text/plain": [
       "[0, 1, 2, 3, 4, 5, 6]"
      ]
     },
     "execution_count": 70,
     "metadata": {},
     "output_type": "execute_result"
    }
   ],
   "source": [
    "list(range(7))"
   ]
  },
  {
   "cell_type": "code",
   "execution_count": null,
   "metadata": {},
   "outputs": [],
   "source": []
  },
  {
   "cell_type": "code",
   "execution_count": null,
   "metadata": {},
   "outputs": [],
   "source": []
  },
  {
   "cell_type": "code",
   "execution_count": null,
   "metadata": {},
   "outputs": [],
   "source": []
  },
  {
   "cell_type": "code",
   "execution_count": null,
   "metadata": {},
   "outputs": [],
   "source": []
  },
  {
   "cell_type": "code",
   "execution_count": null,
   "metadata": {},
   "outputs": [],
   "source": []
  },
  {
   "cell_type": "code",
   "execution_count": 3,
   "metadata": {},
   "outputs": [],
   "source": [
    "import pandas as pd \n",
    "import numpy as np \n",
    "import ast\n",
    "import os\n",
    "import re\n",
    "import sys\n",
    "import ast\n",
    "import glob\n",
    "import itertools\n"
   ]
  },
  {
   "cell_type": "code",
   "execution_count": 4,
   "metadata": {},
   "outputs": [],
   "source": [
    "graph=pd.read_csv('../data/graph.tsv', sep='\\t')\n",
    "graph=graph.loc[:, ~graph.columns.str.contains('^Unnamed')]"
   ]
  },
  {
   "cell_type": "code",
   "execution_count": null,
   "metadata": {},
   "outputs": [],
   "source": []
  },
  {
   "cell_type": "code",
   "execution_count": 5,
   "metadata": {},
   "outputs": [],
   "source": [
    "graph['values']=graph['values'].apply(lambda x: ast.literal_eval(x))\n",
    "graph['values']=graph['values'].apply(lambda x: list(x.items()))"
   ]
  },
  {
   "cell_type": "code",
   "execution_count": 6,
   "metadata": {},
   "outputs": [],
   "source": [
    "new_graph=graph.explode('values')"
   ]
  },
  {
   "cell_type": "code",
   "execution_count": 7,
   "metadata": {},
   "outputs": [],
   "source": [
    "new_graph[[\"to_node\", \"value\"]]= pd.DataFrame(new_graph[\"values\"].values.tolist(), index=new_graph.index)\n",
    "new_graph.drop(columns=[\"values\"], inplace=True)\n",
    "new_graph.set_index(keys=[\"key\", \"to_node\"], drop= True, inplace=True)"
   ]
  },
  {
   "cell_type": "code",
   "execution_count": 20,
   "metadata": {},
   "outputs": [],
   "source": [
    "path = r'../data' # use your path\n",
    "all_files = glob.glob(path + \"/*_actor.tsv\")\n",
    "li = []\n",
    "for filename in all_files:\n",
    "    df = pd.read_csv(filename, sep=\"\\t\", header=0)\n",
    "    li.append(df)"
   ]
  },
  {
   "cell_type": "code",
   "execution_count": 21,
   "metadata": {},
   "outputs": [],
   "source": [
    "IDs=[]\n",
    "for i in range(len(li)):\n",
    "    ids=[]\n",
    "    for j in range(len(li[i])):\n",
    "        ids.append((li[i].iloc[j])[0])\n",
    "    IDs.append(ids)"
   ]
  },
  {
   "cell_type": "code",
   "execution_count": 44,
   "metadata": {},
   "outputs": [],
   "source": [
    "def relation_score(a,b,new_graph):\n",
    "    step = {\n",
    "        \"node\": a,\n",
    "        \"value\": 0,\n",
    "        \"distance\": 0,\n",
    "        \"values\": [],\n",
    "        \"cost\": 0,\n",
    "        \"prev\": \"\"\n",
    "    }\n",
    "\n",
    "    # This is all of the nodes we already found the shortest path to\n",
    "    finished = {}\n",
    "    # This is the next steps to consider\n",
    "    queue = [step]\n",
    "    # This is basically Dijkstra's shortest path algorithm\n",
    "    while len(queue) > 0:\n",
    "        # Take the node with the lowest cost\n",
    "        queue.sort(key=lambda x: x[\"cost\"], reverse=True)\n",
    "        current = queue.pop()\n",
    "        # When you take a node from the queue it means that you have found the shortest path to that node.\n",
    "        finished[current[\"node\"]] = current\n",
    "        print(\"Looking at \" + current[\"node\"] + \", distance: \" + str(current[\"distance\"]) + \", cost: \" + str(current[\"cost\"]))\n",
    "        if current[\"node\"] == b:\n",
    "            break\n",
    "        # The distance to the next nodes is 1 more than the distance to this node\n",
    "        new_dist = current[\"distance\"] + 1\n",
    "        # Values is a list of the graph values so that we can calculate the average when we are calculating the cost\n",
    "        new_values = current[\"values\"]\n",
    "        # Find all of the edges from this node to it's neighbours as dict\n",
    "        edges = new_graph.loc[current[\"node\"]].to_dict()[\"value\"]\n",
    "        for edge in edges:\n",
    "            if finished.get(edge): continue\n",
    "            val = edges[edge]\n",
    "            vals = new_values + [val]\n",
    "            cost = 10 - (11 - new_dist + 10 - sum(vals)/new_dist) / 2\n",
    "\n",
    "            new_step = {\n",
    "                \"node\": edge,\n",
    "                \"value\": val,\n",
    "                \"distance\": new_dist,\n",
    "                \"values\": vals,\n",
    "                \"cost\": cost,\n",
    "                \"prev\": current[\"node\"]\n",
    "            }\n",
    "\n",
    "            in_queue = False\n",
    "            for i in range(len(queue)):\n",
    "                if queue[i][\"node\"] == edge:\n",
    "                    if queue[i][\"cost\"] > new_step[\"cost\"]:\n",
    "                        queue[i] = new_step\n",
    "                    in_queue = True\n",
    "                    break\n",
    "            if in_queue: continue\n",
    "            queue.append(new_step)\n",
    "\n",
    "    actor = b\n",
    "    path = []\n",
    "    while actor != \"\":\n",
    "        path.append(actor)\n",
    "        actor = finished[actor][\"prev\"]\n",
    "    path = list(reversed(path))\n",
    "    score = 10 - finished[b][\"cost\"]\n",
    "\n",
    "    return score"
   ]
  },
  {
   "cell_type": "code",
   "execution_count": 45,
   "metadata": {},
   "outputs": [],
   "source": [
    "leo = \"nm0000138\"\n",
    "christian = \"nm0000288\""
   ]
  },
  {
   "cell_type": "code",
   "execution_count": 46,
   "metadata": {},
   "outputs": [
    {
     "name": "stdout",
     "output_type": "stream",
     "text": [
      "Looking at nm0000138, distance: 0, cost: 0\n",
      "Looking at nm0809059, distance: 1, cost: 0.5999999999999996\n",
      "Looking at nm0002892, distance: 1, cost: 0.5999999999999996\n",
      "Looking at nm0001877, distance: 1, cost: 0.5999999999999996\n",
      "Looking at nm0858799, distance: 1, cost: 0.5999999999999996\n",
      "Looking at nm0634240, distance: 1, cost: 0.5999999999999996\n",
      "Looking at nm0913822, distance: 1, cost: 0.5999999999999996\n",
      "Looking at nm0680983, distance: 1, cost: 0.5999999999999996\n",
      "Looking at nm0330687, distance: 1, cost: 0.5999999999999996\n",
      "Looking at nm0245596, distance: 1, cost: 0.5999999999999996\n",
      "Looking at nm0000071, distance: 1, cost: 0.6500000000000004\n",
      "Looking at nm0001637, distance: 1, cost: 0.6500000000000004\n",
      "Looking at nm0000054, distance: 1, cost: 0.6500000000000004\n",
      "Looking at nm0000537, distance: 1, cost: 0.6500000000000004\n",
      "Looking at nm3827692, distance: 1, cost: 0.6500000000000004\n",
      "Looking at nm0000458, distance: 1, cost: 0.6500000000000004\n",
      "Looking at nm0000012, distance: 1, cost: 0.6500000000000004\n",
      "Looking at nm0000275, distance: 1, cost: 0.6500000000000004\n",
      "Looking at nm0000232, distance: 1, cost: 0.6500000000000004\n",
      "Looking at nm0340522, distance: 1, cost: 0.75\n",
      "Looking at nm0159039, distance: 1, cost: 0.75\n",
      "Looking at nm0538320, distance: 1, cost: 0.75\n",
      "Looking at nm1184258, distance: 1, cost: 0.75\n",
      "Looking at nm0000242, distance: 1, cost: 0.75\n",
      "Looking at nm0000197, distance: 1, cost: 0.75\n",
      "Looking at nm0000354, distance: 1, cost: 0.75\n",
      "Looking at nm0454752, distance: 1, cost: 0.75\n",
      "Looking at nm0000217, distance: 1, cost: 0.75\n",
      "Looking at nm0724744, distance: 1, cost: 0.8000000000000007\n",
      "Looking at nm0792049, distance: 1, cost: 0.8000000000000007\n",
      "Looking at nm0767894, distance: 1, cost: 0.8000000000000007\n",
      "Looking at nm0399737, distance: 1, cost: 0.8000000000000007\n",
      "Looking at nm0000233, distance: 1, cost: 0.8000000000000007\n",
      "Looking at nm0913488, distance: 1, cost: 0.8000000000000007\n",
      "Looking at nm0910607, distance: 1, cost: 0.8000000000000007\n",
      "Looking at nm0004937, distance: 1, cost: 0.8000000000000007\n",
      "Looking at nm0711235, distance: 1, cost: 0.8000000000000007\n",
      "Looking at nm4254685, distance: 1, cost: 0.8499999999999996\n",
      "Looking at nm2236114, distance: 1, cost: 0.8499999999999996\n",
      "Looking at nm3993798, distance: 1, cost: 0.8499999999999996\n",
      "Looking at nm2559634, distance: 1, cost: 0.8499999999999996\n",
      "Looking at nm0711840, distance: 1, cost: 0.8499999999999996\n",
      "Looking at nm0327944, distance: 1, cost: 0.8499999999999996\n",
      "Looking at nm2248832, distance: 1, cost: 0.8499999999999996\n",
      "Looking at nm0598531, distance: 1, cost: 0.8499999999999996\n",
      "Looking at nm0001770, distance: 1, cost: 0.8499999999999996\n",
      "Looking at nm2110175, distance: 1, cost: 0.9000000000000004\n",
      "Looking at nm4265383, distance: 1, cost: 0.9000000000000004\n",
      "Looking at nm0067789, distance: 1, cost: 0.9000000000000004\n",
      "Looking at nm1010540, distance: 1, cost: 0.9000000000000004\n",
      "Looking at nm0000190, distance: 1, cost: 0.9000000000000004\n",
      "Looking at nm3053338, distance: 1, cost: 0.9000000000000004\n",
      "Looking at nm1706767, distance: 1, cost: 0.9000000000000004\n",
      "Looking at nm0863374, distance: 1, cost: 0.9000000000000004\n",
      "Looking at nm0005219, distance: 1, cost: 0.9499999999999993\n",
      "Looking at nm1329482, distance: 1, cost: 0.9499999999999993\n",
      "Looking at nm1212331, distance: 1, cost: 0.9499999999999993\n",
      "Looking at nm0436164, distance: 1, cost: 0.9499999999999993\n",
      "Looking at nm0001426, distance: 1, cost: 0.9499999999999993\n",
      "Looking at nm0749263, distance: 1, cost: 0.9499999999999993\n",
      "Looking at nm0607865, distance: 1, cost: 0.9499999999999993\n",
      "Looking at nm1103781, distance: 1, cost: 0.9499999999999993\n",
      "Looking at nm0662748, distance: 1, cost: 0.9499999999999993\n",
      "Looking at nm1127221, distance: 1, cost: 0.9499999999999993\n",
      "Looking at nm0007646, distance: 1, cost: 0.9499999999999993\n",
      "Looking at nm0622288, distance: 1, cost: 0.9499999999999993\n",
      "Looking at nm0000229, distance: 1, cost: 0.9499999999999993\n",
      "Looking at nm0000640, distance: 1, cost: 0.9499999999999993\n",
      "Looking at nm0000686, distance: 1, cost: 0.9499999999999993\n",
      "Looking at nm0000158, distance: 1, cost: 0.9499999999999993\n",
      "Looking at nm0002354, distance: 1, cost: 0.9499999999999993\n",
      "Looking at nm0562454, distance: 2, cost: 0.9749999999999996\n",
      "Looking at nm0422181, distance: 2, cost: 0.9749999999999996\n",
      "Looking at nm0237160, distance: 2, cost: 0.9749999999999996\n",
      "Looking at nm0003123, distance: 2, cost: 0.9749999999999996\n",
      "Looking at nm0114805, distance: 2, cost: 0.9749999999999996\n",
      "Looking at nm0572142, distance: 2, cost: 0.9749999999999996\n",
      "Looking at nm0140504, distance: 2, cost: 0.9749999999999996\n",
      "Looking at nm2759212, distance: 2, cost: 0.9749999999999996\n",
      "Looking at nm0590314, distance: 2, cost: 0.9749999999999996\n",
      "Looking at nm1461710, distance: 2, cost: 0.9749999999999996\n",
      "Looking at nm0662707, distance: 2, cost: 0.9749999999999996\n",
      "Looking at nm0077136, distance: 2, cost: 0.9749999999999996\n",
      "Looking at nm1154632, distance: 2, cost: 0.9749999999999996\n",
      "Looking at nm0000165, distance: 2, cost: 0.9749999999999996\n",
      "Looking at nm0004976, distance: 2, cost: 0.9749999999999996\n",
      "Looking at nm0001008, distance: 2, cost: 0.9749999999999996\n",
      "Looking at nm0823864, distance: 2, cost: 0.9749999999999996\n",
      "Looking at nm0472603, distance: 2, cost: 1.0\n",
      "Looking at nm0427231, distance: 2, cost: 1.0\n",
      "Looking at nm9277477, distance: 2, cost: 1.0\n",
      "Looking at nm9277483, distance: 2, cost: 1.0\n",
      "Looking at nm9158799, distance: 2, cost: 1.0\n",
      "Looking at nm2330666, distance: 1, cost: 1.0\n",
      "Looking at nm1096247, distance: 1, cost: 1.0\n",
      "Looking at nm3530955, distance: 1, cost: 1.0\n",
      "Looking at nm2333129, distance: 1, cost: 1.0\n",
      "Looking at nm4766666, distance: 1, cost: 1.0\n",
      "Looking at nm0931553, distance: 1, cost: 1.0\n",
      "Looking at nm2178943, distance: 1, cost: 1.0\n",
      "Looking at nm10318150, distance: 1, cost: 1.0\n",
      "Looking at nm0788972, distance: 1, cost: 1.0\n",
      "Looking at nm0586969, distance: 1, cost: 1.0\n",
      "Looking at nm0326512, distance: 1, cost: 1.0\n",
      "Looking at nm3488559, distance: 1, cost: 1.0\n",
      "Looking at nm1872664, distance: 1, cost: 1.0\n",
      "Looking at nm1727304, distance: 1, cost: 1.0\n",
      "Looking at nm2401020, distance: 1, cost: 1.0\n",
      "Looking at nm0362766, distance: 1, cost: 1.0\n",
      "Looking at nm0661289, distance: 1, cost: 1.0\n",
      "Looking at nm0380980, distance: 1, cost: 1.0\n",
      "Looking at nm0330864, distance: 1, cost: 1.0\n",
      "Looking at nm2057149, distance: 1, cost: 1.0\n",
      "Looking at nm0495378, distance: 1, cost: 1.0\n",
      "Looking at nm0001880, distance: 1, cost: 1.0\n",
      "Looking at nm2218894, distance: 1, cost: 1.0\n",
      "Looking at nm0000124, distance: 1, cost: 1.0\n",
      "Looking at nm0005023, distance: 1, cost: 1.0\n",
      "Looking at nm0036427, distance: 2, cost: 1.0\n",
      "Looking at nm3324143, distance: 2, cost: 1.0250000000000004\n",
      "Looking at nm3335688, distance: 2, cost: 1.0250000000000004\n",
      "Looking at nm3336980, distance: 2, cost: 1.0250000000000004\n",
      "Looking at nm3323161, distance: 2, cost: 1.0250000000000004\n",
      "Looking at nm3362570, distance: 2, cost: 1.0250000000000004\n",
      "Looking at nm0210885, distance: 2, cost: 1.0250000000000004\n",
      "Looking at nm0166714, distance: 2, cost: 1.0250000000000004\n",
      "Looking at nm0051958, distance: 2, cost: 1.0250000000000004\n",
      "Looking at nm1514370, distance: 2, cost: 1.0250000000000004\n",
      "Looking at nm0299026, distance: 2, cost: 1.0250000000000004\n",
      "Looking at nm0263004, distance: 2, cost: 1.0250000000000004\n",
      "Looking at nm0864853, distance: 2, cost: 1.0250000000000004\n",
      "Looking at nm0306957, distance: 2, cost: 1.0250000000000004\n",
      "Looking at nm0228370, distance: 2, cost: 1.0250000000000004\n",
      "Looking at nm0198847, distance: 2, cost: 1.0250000000000004\n",
      "Looking at nm0000370, distance: 2, cost: 1.0250000000000004\n",
      "Looking at nm0083496, distance: 2, cost: 1.0250000000000004\n",
      "Looking at nm0047810, distance: 2, cost: 1.0250000000000004\n",
      "Looking at nm0000010, distance: 2, cost: 1.0250000000000004\n",
      "Looking at nm9741497, distance: 2, cost: 1.0250000000000004\n",
      "Looking at nm9483875, distance: 2, cost: 1.0250000000000004\n",
      "Looking at nm9741495, distance: 2, cost: 1.0250000000000004\n",
      "Looking at nm9277473, distance: 2, cost: 1.0250000000000004\n",
      "Looking at nm9277474, distance: 2, cost: 1.0250000000000004\n",
      "Looking at nm0000974, distance: 2, cost: 1.0250000000000004\n",
      "Looking at nm0115597, distance: 2, cost: 1.0250000000000004\n",
      "Looking at nm0943758, distance: 2, cost: 1.0250000000000004\n",
      "Looking at nm0001944, distance: 2, cost: 1.0250000000000004\n"
     ]
    },
    {
     "name": "stdout",
     "output_type": "stream",
     "text": [
      "Looking at nm0002052, distance: 2, cost: 1.0250000000000004\n",
      "Looking at nm0001224, distance: 2, cost: 1.0250000000000004\n",
      "Looking at nm1210598, distance: 2, cost: 1.0250000000000004\n",
      "Looking at nm0893477, distance: 2, cost: 1.0500000000000007\n",
      "Looking at nm7927747, distance: 2, cost: 1.0500000000000007\n",
      "Looking at nm0865845, distance: 2, cost: 1.0500000000000007\n",
      "Looking at nm0000014, distance: 2, cost: 1.0500000000000007\n",
      "Looking at nm0109148, distance: 2, cost: 1.0500000000000007\n",
      "Looking at nm0000951, distance: 2, cost: 1.0500000000000007\n",
      "Looking at nm0001173, distance: 2, cost: 1.0500000000000007\n",
      "Looking at nm0650038, distance: 2, cost: 1.0500000000000007\n",
      "Looking at nm9277487, distance: 2, cost: 1.0500000000000007\n",
      "Looking at nm9277484, distance: 2, cost: 1.0500000000000007\n",
      "Looking at nm0634300, distance: 2, cost: 1.0500000000000007\n",
      "Looking at nm0000323, distance: 2, cost: 1.0500000000000007\n",
      "Looking at nm0000288, distance: 2, cost: 1.0500000000000007\n"
     ]
    },
    {
     "data": {
      "text/plain": [
       "8.95"
      ]
     },
     "execution_count": 46,
     "metadata": {},
     "output_type": "execute_result"
    }
   ],
   "source": [
    "relation_score(leo, christian, new_graph)"
   ]
  },
  {
   "cell_type": "code",
   "execution_count": 32,
   "metadata": {},
   "outputs": [],
   "source": [
    "a = leo\n",
    "b = christian"
   ]
  },
  {
   "cell_type": "code",
   "execution_count": null,
   "metadata": {},
   "outputs": [],
   "source": []
  },
  {
   "cell_type": "code",
   "execution_count": null,
   "metadata": {},
   "outputs": [],
   "source": []
  },
  {
   "cell_type": "code",
   "execution_count": null,
   "metadata": {},
   "outputs": [],
   "source": []
  },
  {
   "cell_type": "code",
   "execution_count": null,
   "metadata": {},
   "outputs": [],
   "source": []
  },
  {
   "cell_type": "code",
   "execution_count": null,
   "metadata": {},
   "outputs": [],
   "source": []
  },
  {
   "cell_type": "code",
   "execution_count": null,
   "metadata": {},
   "outputs": [],
   "source": []
  },
  {
   "cell_type": "code",
   "execution_count": null,
   "metadata": {},
   "outputs": [],
   "source": []
  },
  {
   "cell_type": "code",
   "execution_count": null,
   "metadata": {},
   "outputs": [],
   "source": []
  },
  {
   "cell_type": "code",
   "execution_count": null,
   "metadata": {},
   "outputs": [],
   "source": []
  },
  {
   "cell_type": "code",
   "execution_count": null,
   "metadata": {},
   "outputs": [],
   "source": []
  },
  {
   "cell_type": "code",
   "execution_count": null,
   "metadata": {},
   "outputs": [],
   "source": []
  },
  {
   "cell_type": "code",
   "execution_count": null,
   "metadata": {},
   "outputs": [],
   "source": []
  },
  {
   "cell_type": "code",
   "execution_count": null,
   "metadata": {},
   "outputs": [],
   "source": []
  },
  {
   "cell_type": "code",
   "execution_count": null,
   "metadata": {},
   "outputs": [],
   "source": []
  },
  {
   "cell_type": "code",
   "execution_count": null,
   "metadata": {},
   "outputs": [],
   "source": []
  },
  {
   "cell_type": "code",
   "execution_count": null,
   "metadata": {},
   "outputs": [],
   "source": []
  },
  {
   "cell_type": "code",
   "execution_count": null,
   "metadata": {},
   "outputs": [],
   "source": []
  },
  {
   "cell_type": "code",
   "execution_count": null,
   "metadata": {},
   "outputs": [],
   "source": []
  },
  {
   "cell_type": "code",
   "execution_count": null,
   "metadata": {},
   "outputs": [],
   "source": []
  },
  {
   "cell_type": "code",
   "execution_count": null,
   "metadata": {},
   "outputs": [],
   "source": []
  },
  {
   "cell_type": "code",
   "execution_count": null,
   "metadata": {},
   "outputs": [],
   "source": []
  },
  {
   "cell_type": "code",
   "execution_count": null,
   "metadata": {},
   "outputs": [],
   "source": []
  },
  {
   "cell_type": "code",
   "execution_count": 23,
   "metadata": {},
   "outputs": [],
   "source": [
    "Id_list = list(itertools.product(*IDs))\n",
    "data=pd.DataFrame(Id_list)"
   ]
  },
  {
   "cell_type": "code",
   "execution_count": 24,
   "metadata": {},
   "outputs": [],
   "source": [
    "Id1=[]\n",
    "Id2=[]\n",
    "for i in range(len(IDs)):\n",
    "    for j in range(len(IDs[i])):\n",
    "        for m in range(i+1,len(IDs)):\n",
    "            if (i+1)<(len(IDs)):\n",
    "                for k in range(len(IDs[m])):\n",
    "                    a=IDs[i][j]\n",
    "                    b=IDs[m][k]\n",
    "                    Id1.append(a)\n",
    "                    Id2.append(b)"
   ]
  },
  {
   "cell_type": "code",
   "execution_count": null,
   "metadata": {},
   "outputs": [],
   "source": []
  }
 ],
 "metadata": {
  "kernelspec": {
   "display_name": "Python 3.7.4 64-bit",
   "language": "python",
   "name": "python37464bit274386f8a40340ab9e7dffeca84d272b"
  },
  "language_info": {
   "codemirror_mode": {
    "name": "ipython",
    "version": 3
   },
   "file_extension": ".py",
   "mimetype": "text/x-python",
   "name": "python",
   "nbconvert_exporter": "python",
   "pygments_lexer": "ipython3",
   "version": "3.7.4"
  }
 },
 "nbformat": 4,
 "nbformat_minor": 2
}
