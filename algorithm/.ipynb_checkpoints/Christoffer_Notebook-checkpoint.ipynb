{
 "cells": [
  {
   "cell_type": "code",
   "execution_count": 1,
   "metadata": {},
   "outputs": [],
   "source": [
    "import pandas as pd \n",
    "import numpy as np \n",
    "import ast\n",
    "import os\n",
    "import re\n",
    "import sys\n",
    "import ast\n",
    "import glob\n",
    "import itertools"
   ]
  },
  {
   "cell_type": "code",
   "execution_count": 2,
   "metadata": {},
   "outputs": [],
   "source": [
    "graph=pd.read_csv('../data/graph.tsv', sep='\\t')\n",
    "graph=graph.loc[:, ~graph.columns.str.contains('^Unnamed')]"
   ]
  },
  {
   "cell_type": "code",
   "execution_count": 3,
   "metadata": {},
   "outputs": [],
   "source": [
    "graph['values']=graph['values'].apply(lambda x: ast.literal_eval(x))\n",
    "graph['values']=graph['values'].apply(lambda x: list(x.items()))"
   ]
  },
  {
   "cell_type": "code",
   "execution_count": 5,
   "metadata": {},
   "outputs": [],
   "source": [
    "new_graph=graph.explode('values')"
   ]
  },
  {
   "cell_type": "code",
   "execution_count": 6,
   "metadata": {},
   "outputs": [],
   "source": [
    "new_graph[[\"to_node\", \"value\"]]= pd.DataFrame(new_graph[\"values\"].values.tolist(), index=new_graph.index)\n",
    "new_graph.drop(columns=[\"values\"], inplace=True)\n",
    "new_graph.set_index(keys=[\"key\", \"to_node\"], drop= True, inplace=True)"
   ]
  },
  {
   "cell_type": "code",
   "execution_count": 16,
   "metadata": {},
   "outputs": [],
   "source": [
    "path = r'../data' # use your path\n",
    "all_files = glob.glob(path + \"/*_actor.tsv\")\n",
    "li = []\n",
    "for filename in all_files:\n",
    "    df = pd.read_csv(filename, sep=\"\\t\", header=0)\n",
    "    li.append(df)"
   ]
  },
  {
   "cell_type": "code",
   "execution_count": null,
   "metadata": {},
   "outputs": [],
   "source": []
  },
  {
   "cell_type": "code",
   "execution_count": 18,
   "metadata": {},
   "outputs": [],
   "source": [
    "IDs=[]\n",
    "for i in range(len(li)):\n",
    "    ids=[]\n",
    "    for j in range(len(li[i])):\n",
    "        ids.append((li[i].iloc[j])[0])\n",
    "    IDs.append(ids)"
   ]
  },
  {
   "cell_type": "code",
   "execution_count": null,
   "metadata": {},
   "outputs": [],
   "source": []
  },
  {
   "cell_type": "code",
   "execution_count": 19,
   "metadata": {},
   "outputs": [],
   "source": [
    "Id_list = list(itertools.product(*IDs))"
   ]
  },
  {
   "cell_type": "code",
   "execution_count": null,
   "metadata": {},
   "outputs": [],
   "source": []
  },
  {
   "cell_type": "code",
   "execution_count": 27,
   "metadata": {},
   "outputs": [],
   "source": [
    "data=pd.DataFrame(Id_list)"
   ]
  },
  {
   "cell_type": "code",
   "execution_count": 40,
   "metadata": {},
   "outputs": [],
   "source": [
    "Id1=[]\n",
    "Id2=[]\n",
    "score=[]\n",
    "for i in range(len(IDs)):\n",
    "    for j in range(len(IDs[i])):\n",
    "        for m in range(i+1,len(IDs)):\n",
    "            if (i+1)<(len(IDs)):\n",
    "                for k in range(len(IDs[m])):\n",
    "                    a=IDs[i][j]\n",
    "                    b=IDs[m][k]\n",
    "                    Id1.append(a)\n",
    "                    Id2.append(b)"
   ]
  },
  {
   "cell_type": "code",
   "execution_count": 45,
   "metadata": {},
   "outputs": [],
   "source": [
    "l1 = len(set(IDs[0]))\n",
    "l2 = len(set(IDs[1]))\n",
    "l3 = len(set(IDs[2]))"
   ]
  },
  {
   "cell_type": "code",
   "execution_count": 46,
   "metadata": {},
   "outputs": [
    {
     "data": {
      "text/plain": [
       "2076"
      ]
     },
     "execution_count": 46,
     "metadata": {},
     "output_type": "execute_result"
    }
   ],
   "source": [
    "l1*l2 + l1*l3 + l2*l3"
   ]
  },
  {
   "cell_type": "code",
   "execution_count": 47,
   "metadata": {},
   "outputs": [
    {
     "data": {
      "text/plain": [
       "2076"
      ]
     },
     "execution_count": 47,
     "metadata": {},
     "output_type": "execute_result"
    }
   ],
   "source": [
    "len(Id1)"
   ]
  },
  {
   "cell_type": "code",
   "execution_count": 48,
   "metadata": {},
   "outputs": [],
   "source": [
    "combs = []\n",
    "for i in range(0, len(IDs)):\n",
    "    for j in range(i+1, len(IDs)):\n",
    "        combs.extend([(x, y) for x in IDs[i] for y in IDs[j]])"
   ]
  },
  {
   "cell_type": "code",
   "execution_count": null,
   "metadata": {},
   "outputs": [],
   "source": []
  },
  {
   "cell_type": "code",
   "execution_count": 1,
   "metadata": {},
   "outputs": [
    {
     "data": {
      "text/plain": [
       "dict_values([1, 2, 3])"
      ]
     },
     "execution_count": 1,
     "metadata": {},
     "output_type": "execute_result"
    }
   ],
   "source": [
    "a = {\"a\": 1, \"b\": 2, \"c\": 3}\n",
    "a.values()"
   ]
  },
  {
   "cell_type": "code",
   "execution_count": 2,
   "metadata": {},
   "outputs": [
    {
     "data": {
      "text/plain": [
       "[1, 2, 3]"
      ]
     },
     "execution_count": 2,
     "metadata": {},
     "output_type": "execute_result"
    }
   ],
   "source": [
    "[b for b in a.values()]"
   ]
  },
  {
   "cell_type": "code",
   "execution_count": null,
   "metadata": {},
   "outputs": [],
   "source": []
  },
  {
   "cell_type": "code",
   "execution_count": null,
   "metadata": {},
   "outputs": [],
   "source": []
  },
  {
   "cell_type": "code",
   "execution_count": null,
   "metadata": {},
   "outputs": [],
   "source": []
  },
  {
   "cell_type": "code",
   "execution_count": null,
   "metadata": {},
   "outputs": [],
   "source": []
  },
  {
   "cell_type": "code",
   "execution_count": null,
   "metadata": {},
   "outputs": [],
   "source": []
  },
  {
   "cell_type": "code",
   "execution_count": null,
   "metadata": {},
   "outputs": [],
   "source": []
  },
  {
   "cell_type": "code",
   "execution_count": null,
   "metadata": {},
   "outputs": [],
   "source": []
  },
  {
   "cell_type": "code",
   "execution_count": null,
   "metadata": {},
   "outputs": [],
   "source": []
  },
  {
   "cell_type": "code",
   "execution_count": null,
   "metadata": {},
   "outputs": [],
   "source": []
  },
  {
   "cell_type": "code",
   "execution_count": null,
   "metadata": {},
   "outputs": [],
   "source": []
  },
  {
   "cell_type": "code",
   "execution_count": null,
   "metadata": {},
   "outputs": [],
   "source": []
  },
  {
   "cell_type": "code",
   "execution_count": null,
   "metadata": {},
   "outputs": [],
   "source": []
  },
  {
   "cell_type": "code",
   "execution_count": null,
   "metadata": {},
   "outputs": [],
   "source": []
  },
  {
   "cell_type": "code",
   "execution_count": null,
   "metadata": {},
   "outputs": [],
   "source": []
  },
  {
   "cell_type": "code",
   "execution_count": null,
   "metadata": {},
   "outputs": [],
   "source": []
  },
  {
   "cell_type": "code",
   "execution_count": 3,
   "metadata": {},
   "outputs": [],
   "source": [
    "import pandas as pd \n",
    "import numpy as np \n",
    "import ast\n",
    "import os\n",
    "import re\n",
    "import sys\n",
    "import ast\n",
    "import glob\n",
    "import itertools\n"
   ]
  },
  {
   "cell_type": "code",
   "execution_count": 4,
   "metadata": {},
   "outputs": [],
   "source": [
    "graph=pd.read_csv('../data/graph.tsv', sep='\\t')\n",
    "graph=graph.loc[:, ~graph.columns.str.contains('^Unnamed')]"
   ]
  },
  {
   "cell_type": "code",
   "execution_count": null,
   "metadata": {},
   "outputs": [],
   "source": []
  },
  {
   "cell_type": "code",
   "execution_count": 5,
   "metadata": {},
   "outputs": [],
   "source": [
    "graph['values']=graph['values'].apply(lambda x: ast.literal_eval(x))\n",
    "graph['values']=graph['values'].apply(lambda x: list(x.items()))"
   ]
  },
  {
   "cell_type": "code",
   "execution_count": 6,
   "metadata": {},
   "outputs": [],
   "source": [
    "new_graph=graph.explode('values')"
   ]
  },
  {
   "cell_type": "code",
   "execution_count": 7,
   "metadata": {},
   "outputs": [],
   "source": [
    "new_graph[[\"to_node\", \"value\"]]= pd.DataFrame(new_graph[\"values\"].values.tolist(), index=new_graph.index)\n",
    "new_graph.drop(columns=[\"values\"], inplace=True)\n",
    "new_graph.set_index(keys=[\"key\", \"to_node\"], drop= True, inplace=True)"
   ]
  },
  {
   "cell_type": "code",
   "execution_count": 20,
   "metadata": {},
   "outputs": [],
   "source": [
    "path = r'../data' # use your path\n",
    "all_files = glob.glob(path + \"/*_actor.tsv\")\n",
    "li = []\n",
    "for filename in all_files:\n",
    "    df = pd.read_csv(filename, sep=\"\\t\", header=0)\n",
    "    li.append(df)"
   ]
  },
  {
   "cell_type": "code",
   "execution_count": 21,
   "metadata": {},
   "outputs": [],
   "source": [
    "IDs=[]\n",
    "for i in range(len(li)):\n",
    "    ids=[]\n",
    "    for j in range(len(li[i])):\n",
    "        ids.append((li[i].iloc[j])[0])\n",
    "    IDs.append(ids)"
   ]
  },
  {
   "cell_type": "code",
   "execution_count": 29,
   "metadata": {},
   "outputs": [],
   "source": [
    "def relation_score(a,b,new_graph):\n",
    "    step = {\n",
    "        \"node\": a,\n",
    "        \"value\": 0,\n",
    "        \"distance\": 0,\n",
    "        \"values\": [],\n",
    "        \"cost\": 0,\n",
    "        \"prev\": \"\"\n",
    "    }\n",
    "\n",
    "    # This is all of the nodes we already found the shortest path to\n",
    "    finished = {}\n",
    "    # This is the next steps to consider\n",
    "    queue = [step]\n",
    "    # This is basically Dijkstra's shortest path algorithm\n",
    "    while len(queue) > 0:\n",
    "        # Take the node with the lowest cost\n",
    "        queue.sort(key=lambda x: x[\"cost\"], reverse=True)\n",
    "        current = queue.pop()\n",
    "        # When you take a node from the queue it means that you have found the shortest path to that node.\n",
    "        finished[current[\"node\"]] = current\n",
    "        print(\"Looking at \" + current[\"node\"] + \", distance: \" + str(current[\"distance\"]) + \", cost: \" + str(current[\"cost\"]))\n",
    "        if current[\"node\"] == b:\n",
    "            break\n",
    "        # The distance to the next nodes is 1 more than the distance to this node\n",
    "        new_dist = current[\"distance\"] + 1\n",
    "        # Values is a list of the graph values so that we can calculate the average when we are calculating the cost\n",
    "        new_values = current[\"values\"]\n",
    "        # Find all of the edges from this node to it's neighbours as dict\n",
    "        edges = new_graph.loc[current[\"node\"]].to_dict()[\"value\"]\n",
    "        for edge in edges:\n",
    "            if finished.get(edge): continue\n",
    "            val = edges[edge]\n",
    "            vals = new_values + [val]\n",
    "            cost = 10 - (11 - new_dist + 10 - sum(vals)/new_dist) / 2\n",
    "\n",
    "            new_step = {\n",
    "                \"node\": edge,\n",
    "                \"value\": val,\n",
    "                \"distance\": new_dist,\n",
    "                \"values\": vals,\n",
    "                \"cost\": cost,\n",
    "                \"prev\": current[\"node\"]\n",
    "            }\n",
    "\n",
    "            in_queue = False\n",
    "            for i in range(len(queue)):\n",
    "                if queue[i][\"node\"] == edge:\n",
    "                    if queue[i][\"cost\"] > new_step[\"cost\"]:\n",
    "                        queue[i] = new_step\n",
    "                    in_queue = True\n",
    "                    break\n",
    "            if in_queue: continue\n",
    "            queue.append(new_step)\n",
    "\n",
    "    actor = b\n",
    "    path = []\n",
    "    while actor != \"\":\n",
    "        path.append(actor)\n",
    "        actor = finished[actor][\"prev\"]\n",
    "    path = list(reversed(path))\n",
    "    score = 10 - finished[b][\"cost\"]\n",
    "\n",
    "    return score"
   ]
  },
  {
   "cell_type": "code",
   "execution_count": 30,
   "metadata": {},
   "outputs": [],
   "source": [
    "leo = \"nm0000138\"\n",
    "christian = \"nm0000288\""
   ]
  },
  {
   "cell_type": "code",
   "execution_count": 31,
   "metadata": {},
   "outputs": [
    {
     "ename": "KeyboardInterrupt",
     "evalue": "",
     "output_type": "error",
     "traceback": [
      "\u001b[1;31m---------------------------------------------------------------------------\u001b[0m",
      "\u001b[1;31mKeyboardInterrupt\u001b[0m                         Traceback (most recent call last)",
      "\u001b[1;32m<ipython-input-31-759e2351cc75>\u001b[0m in \u001b[0;36m<module>\u001b[1;34m\u001b[0m\n\u001b[1;32m----> 1\u001b[1;33m \u001b[0mrelation_score\u001b[0m\u001b[1;33m(\u001b[0m\u001b[0mleo\u001b[0m\u001b[1;33m,\u001b[0m \u001b[0mchristian\u001b[0m\u001b[1;33m,\u001b[0m \u001b[0mnew_graph\u001b[0m\u001b[1;33m)\u001b[0m\u001b[1;33m\u001b[0m\u001b[1;33m\u001b[0m\u001b[0m\n\u001b[0m",
      "\u001b[1;32m<ipython-input-29-067cafff6255>\u001b[0m in \u001b[0;36mrelation_score\u001b[1;34m(a, b, new_graph)\u001b[0m\n\u001b[0;32m     56\u001b[0m             \u001b[0min_queue\u001b[0m \u001b[1;33m=\u001b[0m \u001b[1;32mFalse\u001b[0m\u001b[1;33m\u001b[0m\u001b[1;33m\u001b[0m\u001b[0m\n\u001b[0;32m     57\u001b[0m             \u001b[1;32mfor\u001b[0m \u001b[0mi\u001b[0m \u001b[1;32min\u001b[0m \u001b[0mrange\u001b[0m\u001b[1;33m(\u001b[0m\u001b[0mlen\u001b[0m\u001b[1;33m(\u001b[0m\u001b[0mqueue\u001b[0m\u001b[1;33m)\u001b[0m\u001b[1;33m)\u001b[0m\u001b[1;33m:\u001b[0m\u001b[1;33m\u001b[0m\u001b[1;33m\u001b[0m\u001b[0m\n\u001b[1;32m---> 58\u001b[1;33m                 \u001b[1;32mif\u001b[0m \u001b[0mqueue\u001b[0m\u001b[1;33m[\u001b[0m\u001b[0mi\u001b[0m\u001b[1;33m]\u001b[0m\u001b[1;33m[\u001b[0m\u001b[1;34m\"node\"\u001b[0m\u001b[1;33m]\u001b[0m \u001b[1;33m==\u001b[0m \u001b[0medge\u001b[0m\u001b[1;33m:\u001b[0m\u001b[1;33m\u001b[0m\u001b[1;33m\u001b[0m\u001b[0m\n\u001b[0m\u001b[0;32m     59\u001b[0m                     \u001b[1;32mif\u001b[0m \u001b[0mqueue\u001b[0m\u001b[1;33m[\u001b[0m\u001b[0mi\u001b[0m\u001b[1;33m]\u001b[0m\u001b[1;33m[\u001b[0m\u001b[1;34m\"cost\"\u001b[0m\u001b[1;33m]\u001b[0m \u001b[1;33m>\u001b[0m \u001b[0mnew_step\u001b[0m\u001b[1;33m[\u001b[0m\u001b[1;34m\"cost\"\u001b[0m\u001b[1;33m]\u001b[0m\u001b[1;33m:\u001b[0m\u001b[1;33m\u001b[0m\u001b[1;33m\u001b[0m\u001b[0m\n\u001b[0;32m     60\u001b[0m                         \u001b[0mqueue\u001b[0m\u001b[1;33m[\u001b[0m\u001b[0mi\u001b[0m\u001b[1;33m]\u001b[0m \u001b[1;33m=\u001b[0m \u001b[0mnew_step\u001b[0m\u001b[1;33m\u001b[0m\u001b[1;33m\u001b[0m\u001b[0m\n",
      "\u001b[1;31mKeyboardInterrupt\u001b[0m: "
     ]
    }
   ],
   "source": [
    "relation_score(leo, christian, new_graph)"
   ]
  },
  {
   "cell_type": "code",
   "execution_count": 32,
   "metadata": {},
   "outputs": [],
   "source": [
    "a = leo\n",
    "b = christian"
   ]
  },
  {
   "cell_type": "code",
   "execution_count": null,
   "metadata": {},
   "outputs": [],
   "source": []
  },
  {
   "cell_type": "code",
   "execution_count": null,
   "metadata": {},
   "outputs": [],
   "source": []
  },
  {
   "cell_type": "code",
   "execution_count": null,
   "metadata": {},
   "outputs": [],
   "source": []
  },
  {
   "cell_type": "code",
   "execution_count": null,
   "metadata": {},
   "outputs": [],
   "source": []
  },
  {
   "cell_type": "code",
   "execution_count": null,
   "metadata": {},
   "outputs": [],
   "source": []
  },
  {
   "cell_type": "code",
   "execution_count": null,
   "metadata": {},
   "outputs": [],
   "source": []
  },
  {
   "cell_type": "code",
   "execution_count": null,
   "metadata": {},
   "outputs": [],
   "source": []
  },
  {
   "cell_type": "code",
   "execution_count": null,
   "metadata": {},
   "outputs": [],
   "source": []
  },
  {
   "cell_type": "code",
   "execution_count": null,
   "metadata": {},
   "outputs": [],
   "source": []
  },
  {
   "cell_type": "code",
   "execution_count": null,
   "metadata": {},
   "outputs": [],
   "source": []
  },
  {
   "cell_type": "code",
   "execution_count": null,
   "metadata": {},
   "outputs": [],
   "source": []
  },
  {
   "cell_type": "code",
   "execution_count": null,
   "metadata": {},
   "outputs": [],
   "source": []
  },
  {
   "cell_type": "code",
   "execution_count": null,
   "metadata": {},
   "outputs": [],
   "source": []
  },
  {
   "cell_type": "code",
   "execution_count": null,
   "metadata": {},
   "outputs": [],
   "source": []
  },
  {
   "cell_type": "code",
   "execution_count": null,
   "metadata": {},
   "outputs": [],
   "source": []
  },
  {
   "cell_type": "code",
   "execution_count": null,
   "metadata": {},
   "outputs": [],
   "source": []
  },
  {
   "cell_type": "code",
   "execution_count": null,
   "metadata": {},
   "outputs": [],
   "source": []
  },
  {
   "cell_type": "code",
   "execution_count": null,
   "metadata": {},
   "outputs": [],
   "source": []
  },
  {
   "cell_type": "code",
   "execution_count": null,
   "metadata": {},
   "outputs": [],
   "source": []
  },
  {
   "cell_type": "code",
   "execution_count": null,
   "metadata": {},
   "outputs": [],
   "source": []
  },
  {
   "cell_type": "code",
   "execution_count": null,
   "metadata": {},
   "outputs": [],
   "source": []
  },
  {
   "cell_type": "code",
   "execution_count": null,
   "metadata": {},
   "outputs": [],
   "source": []
  },
  {
   "cell_type": "code",
   "execution_count": 23,
   "metadata": {},
   "outputs": [],
   "source": [
    "Id_list = list(itertools.product(*IDs))\n",
    "data=pd.DataFrame(Id_list)"
   ]
  },
  {
   "cell_type": "code",
   "execution_count": 24,
   "metadata": {},
   "outputs": [],
   "source": [
    "Id1=[]\n",
    "Id2=[]\n",
    "for i in range(len(IDs)):\n",
    "    for j in range(len(IDs[i])):\n",
    "        for m in range(i+1,len(IDs)):\n",
    "            if (i+1)<(len(IDs)):\n",
    "                for k in range(len(IDs[m])):\n",
    "                    a=IDs[i][j]\n",
    "                    b=IDs[m][k]\n",
    "                    Id1.append(a)\n",
    "                    Id2.append(b)"
   ]
  },
  {
   "cell_type": "code",
   "execution_count": null,
   "metadata": {},
   "outputs": [],
   "source": []
  }
 ],
 "metadata": {
  "kernelspec": {
   "display_name": "Python 3.7.4 64-bit",
   "language": "python",
   "name": "python37464bit274386f8a40340ab9e7dffeca84d272b"
  },
  "language_info": {
   "codemirror_mode": {
    "name": "ipython",
    "version": 3
   },
   "file_extension": ".py",
   "mimetype": "text/x-python",
   "name": "python",
   "nbconvert_exporter": "python",
   "pygments_lexer": "ipython3",
   "version": "3.7.4"
  }
 },
 "nbformat": 4,
 "nbformat_minor": 2
}
