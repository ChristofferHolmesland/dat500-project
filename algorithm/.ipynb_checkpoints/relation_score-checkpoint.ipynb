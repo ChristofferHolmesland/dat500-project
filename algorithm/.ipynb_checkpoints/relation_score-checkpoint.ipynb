{
 "cells": [
  {
   "cell_type": "code",
   "execution_count": 1,
   "metadata": {},
   "outputs": [],
   "source": [
    "import pandas as pd \n",
    "import numpy as np \n",
    "import ast\n",
    "import os\n",
    "import re\n",
    "import sys\n",
    "import ast\n",
    "import glob"
   ]
  },
  {
   "cell_type": "code",
   "execution_count": null,
   "metadata": {},
   "outputs": [],
   "source": []
  },
  {
   "cell_type": "code",
   "execution_count": null,
   "metadata": {},
   "outputs": [],
   "source": [
    "graph=pd.read_csv('../data/graph.tsv', sep='\\t')\n",
    "graph"
   ]
  },
  {
   "cell_type": "code",
   "execution_count": null,
   "metadata": {},
   "outputs": [],
   "source": [
    "path = r'../data' # use your path\n",
    "all_files = glob.glob(path + \"/*_actor3.tsv\")\n",
    "\n",
    "li = []\n",
    "\n",
    "for filename in all_files:\n",
    "    df = pd.read_csv(filename, sep=\"\\t\", header=0)\n",
    "    li.append(df)"
   ]
  },
  {
   "cell_type": "code",
   "execution_count": null,
   "metadata": {},
   "outputs": [],
   "source": [
    "IDs=[]\n",
    "for i in range(len(li)):\n",
    "    ids=[]\n",
    "    for j in range(len(li[i])):\n",
    "        ids.append((li[i].iloc[j])[0])\n",
    "    IDs.append(ids)\n",
    "IDs"
   ]
  },
  {
   "cell_type": "code",
   "execution_count": null,
   "metadata": {},
   "outputs": [],
   "source": []
  },
  {
   "cell_type": "code",
   "execution_count": null,
   "metadata": {},
   "outputs": [],
   "source": []
  },
  {
   "cell_type": "code",
   "execution_count": null,
   "metadata": {},
   "outputs": [],
   "source": [
    "def relation_score(a,b,graph):\n",
    "    #This is the starting step\n",
    "    step = {\n",
    "        \"node\": a,\n",
    "        \"value\": 0,\n",
    "        \"distance\": 0,\n",
    "        \"values\": [],\n",
    "        \"cost\": 0,\n",
    "        \"prev\": \"\"\n",
    "    }\n",
    "    # This is all of the nodes we already found the shortest path to\n",
    "    finished = {}\n",
    "    # This is the next steps to consider\n",
    "    queue = [step]\n",
    "    # This is basically Dijkstra's shortest path algorithm\n",
    "    while len(queue) > 0:\n",
    "        # Take the node with the lowest cost\n",
    "        queue.sort(key=lambda x: x[\"cost\"], reverse=True)\n",
    "        current = queue.pop()\n",
    "        # When you take a node from the queue it means that you have found the shortest path to that node.\n",
    "        finished[current[\"node\"]] = current\n",
    "        #print(\"Looking at \" + current[\"node\"] + \", distance: \" + str(current[\"distance\"]) + \", cost: \" + str(current[\"cost\"]))\n",
    "        # Stop when we find b\n",
    "        if current[\"node\"] == b:\n",
    "            print(\"Found path to {} :D\".format(b))\n",
    "            break\n",
    "        # The distance to the next nodes is 1 more than the distance to this node\n",
    "        new_dist = current[\"distance\"] + 1\n",
    "        # Values is a list of the graph values so that we can calculate the average when we are calculating the cost\n",
    "        new_values = current[\"values\"]\n",
    "        # Find all of the edges from this node to it's neighbours\n",
    "        edges = graph.loc[(graph['key'] == current[\"node\"]), 'values'].iloc[0]\n",
    "        edges=ast.literal_eval(edges)\n",
    "        for edge in edges:\n",
    "            # If the edge is in finished it means that we already found a shorter path to that node\n",
    "            if finished.get(edge): continue\n",
    "            val = edges[edge]\n",
    "            vals = new_values + [val]\n",
    "            # Our scores (genre_score, similarity) are between 0 and 10. So we want this score to be in that range aswell.\n",
    "            # The distance (11 - new_dist) means that shorter paths are preferred, A->B->C=9 instead of A->E->F->C=8.\n",
    "            # (10 - sum(vals)/new_dist) is 10 - avg of the scores from the graph. The graph values are the opposite\n",
    "            # of the rating, so a rating of 7 => 3, 9.5 => 0.5. This is done because we want to find the shortest path between actors.\n",
    "            # If we didn't do this then the path would always try to visit every actor before finding christian. This is why we\n",
    "            # subtract the average of the two numbers from 10. \n",
    "            cost = 10 - (11 - new_dist + 10 - sum(vals)/new_dist) / 2\n",
    "            new_step = {\n",
    "                \"node\": edge,\n",
    "                \"value\": val,\n",
    "                \"distance\": new_dist,\n",
    "                \"values\": vals,\n",
    "                \"cost\": cost,\n",
    "                \"prev\": current[\"node\"]\n",
    "            }\n",
    "            in_queue = False\n",
    "            # Check if it is already in the queue, if it is and this cost is lower it should be updated\n",
    "            for i in range(len(queue)):\n",
    "                if queue[i][\"node\"] == edge:\n",
    "                    if queue[i][\"cost\"] > new_step[\"cost\"]:\n",
    "                        queue[i] = new_step\n",
    "                    in_queue = True\n",
    "                    break\n",
    "            if in_queue: continue\n",
    "            # If the edge was not in the queue it is added.\n",
    "            queue.append(new_step)\n",
    "\n",
    "    actor = b\n",
    "    path = []\n",
    "    while actor != \"\":\n",
    "        path.append(actor)\n",
    "        actor = finished[actor][\"prev\"]\n",
    "    path = list(reversed(path))\n",
    "    score=(10 - finished[b][\"cost\"])\n",
    "    #print(\"Leonardo-Christian score: \" + str(10 - finished[christian][\"cost\"]))\n",
    "    return(score)"
   ]
  },
  {
   "cell_type": "code",
   "execution_count": null,
   "metadata": {},
   "outputs": [],
   "source": []
  },
  {
   "cell_type": "code",
   "execution_count": null,
   "metadata": {},
   "outputs": [],
   "source": [
    "#Leonardo and Christian\n",
    "l = \"nm0000138\"\n",
    "c = \"nm0000288\""
   ]
  },
  {
   "cell_type": "code",
   "execution_count": null,
   "metadata": {},
   "outputs": [],
   "source": [
    "relation_score(l,c,graph)"
   ]
  },
  {
   "cell_type": "code",
   "execution_count": null,
   "metadata": {},
   "outputs": [],
   "source": []
  },
  {
   "cell_type": "code",
   "execution_count": null,
   "metadata": {},
   "outputs": [],
   "source": [
    "#Leonardo and Tobey\n",
    "a=\"nm0000138\"\n",
    "b=\"nm0001497\""
   ]
  },
  {
   "cell_type": "code",
   "execution_count": null,
   "metadata": {},
   "outputs": [],
   "source": [
    "relation_score(a,b,graph)"
   ]
  },
  {
   "cell_type": "code",
   "execution_count": null,
   "metadata": {},
   "outputs": [],
   "source": []
  },
  {
   "cell_type": "code",
   "execution_count": null,
   "metadata": {},
   "outputs": [],
   "source": []
  },
  {
   "cell_type": "code",
   "execution_count": null,
   "metadata": {},
   "outputs": [],
   "source": [
    "#All of the {}_actor.tsv with each other \n",
    "Id=[]\n",
    "score=[]\n",
    "for i in range(len(IDs)):\n",
    "    for j in range(len(IDs[i][:3])):\n",
    "        for m in range(i+1,len(IDs)):\n",
    "            if (i+1)<(len(IDs)):\n",
    "                for k in range(len(IDs[m][:2])):\n",
    "                    a=IDs[i][j]\n",
    "                    b=IDs[m][k]\n",
    "                    dic={a:b}\n",
    "                    score.append(relation_score(a,b,graph))\n",
    "                    Id.append(dic)\n"
   ]
  },
  {
   "cell_type": "code",
   "execution_count": null,
   "metadata": {},
   "outputs": [],
   "source": []
  },
  {
   "cell_type": "code",
   "execution_count": null,
   "metadata": {},
   "outputs": [],
   "source": []
  }
 ],
 "metadata": {
  "kernelspec": {
   "display_name": "Python 3",
   "language": "python",
   "name": "python3"
  },
  "language_info": {
   "codemirror_mode": {
    "name": "ipython",
    "version": 3
   },
   "file_extension": ".py",
   "mimetype": "text/x-python",
   "name": "python",
   "nbconvert_exporter": "python",
   "pygments_lexer": "ipython3",
   "version": "3.7.6"
  }
 },
 "nbformat": 4,
 "nbformat_minor": 4
}
