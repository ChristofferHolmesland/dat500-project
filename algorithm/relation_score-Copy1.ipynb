{
 "cells": [
  {
   "cell_type": "code",
   "execution_count": 1,
   "metadata": {},
   "outputs": [],
   "source": [
    "import pandas as pd \n",
    "import numpy as np \n",
    "import ast\n",
    "import os\n",
    "import re\n",
    "import sys\n",
    "import ast\n",
    "import glob\n",
    "import itertools"
   ]
  },
  {
   "cell_type": "code",
   "execution_count": null,
   "metadata": {},
   "outputs": [],
   "source": []
  },
  {
   "cell_type": "code",
   "execution_count": 2,
   "metadata": {},
   "outputs": [
    {
     "data": {
      "text/html": [
       "<div>\n",
       "<style scoped>\n",
       "    .dataframe tbody tr th:only-of-type {\n",
       "        vertical-align: middle;\n",
       "    }\n",
       "\n",
       "    .dataframe tbody tr th {\n",
       "        vertical-align: top;\n",
       "    }\n",
       "\n",
       "    .dataframe thead th {\n",
       "        text-align: right;\n",
       "    }\n",
       "</style>\n",
       "<table border=\"1\" class=\"dataframe\">\n",
       "  <thead>\n",
       "    <tr style=\"text-align: right;\">\n",
       "      <th></th>\n",
       "      <th>key</th>\n",
       "      <th>values</th>\n",
       "    </tr>\n",
       "  </thead>\n",
       "  <tbody>\n",
       "    <tr>\n",
       "      <th>0</th>\n",
       "      <td>nm0000001</td>\n",
       "      <td>{'nm0949130': 2.5, 'nm0001677': 2.2, 'nm010356...</td>\n",
       "    </tr>\n",
       "    <tr>\n",
       "      <th>1</th>\n",
       "      <td>nm0000002</td>\n",
       "      <td>{'nm0150462': 2.0999999999999996, 'nm0000007':...</td>\n",
       "    </tr>\n",
       "    <tr>\n",
       "      <th>2</th>\n",
       "      <td>nm0000003</td>\n",
       "      <td>{'nm0131001': 4.3, 'nm0894677': 4.3, 'nm018135...</td>\n",
       "    </tr>\n",
       "    <tr>\n",
       "      <th>3</th>\n",
       "      <td>nm0000004</td>\n",
       "      <td>{'nm0161443': 3.2, 'nm0000101': 2.099999999999...</td>\n",
       "    </tr>\n",
       "    <tr>\n",
       "      <th>4</th>\n",
       "      <td>nm0000005</td>\n",
       "      <td>{'nm0090956': 2.7, 'nm0433512': 2.7, 'nm045803...</td>\n",
       "    </tr>\n",
       "    <tr>\n",
       "      <th>...</th>\n",
       "      <td>...</td>\n",
       "      <td>...</td>\n",
       "    </tr>\n",
       "    <tr>\n",
       "      <th>1131849</th>\n",
       "      <td>nm9993613</td>\n",
       "      <td>{'nm10720286': 4.0, 'nm5063862': 4.0, 'nm35495...</td>\n",
       "    </tr>\n",
       "    <tr>\n",
       "      <th>1131850</th>\n",
       "      <td>nm9993616</td>\n",
       "      <td>{'nm1391663': 3.5, 'nm7444538': 3.5, 'nm049125...</td>\n",
       "    </tr>\n",
       "    <tr>\n",
       "      <th>1131851</th>\n",
       "      <td>nm9993650</td>\n",
       "      <td>{'nm7144368': 4.8, 'nm2066212': 4.8, 'nm069022...</td>\n",
       "    </tr>\n",
       "    <tr>\n",
       "      <th>1131852</th>\n",
       "      <td>nm9993690</td>\n",
       "      <td>{'nm7815539': 3.5, 'nm1666585': 3.5, 'nm999369...</td>\n",
       "    </tr>\n",
       "    <tr>\n",
       "      <th>1131853</th>\n",
       "      <td>nm9993691</td>\n",
       "      <td>{'nm7815539': 3.5, 'nm1666585': 3.5, 'nm780397...</td>\n",
       "    </tr>\n",
       "  </tbody>\n",
       "</table>\n",
       "<p>1131854 rows × 2 columns</p>\n",
       "</div>"
      ],
      "text/plain": [
       "               key                                             values\n",
       "0        nm0000001  {'nm0949130': 2.5, 'nm0001677': 2.2, 'nm010356...\n",
       "1        nm0000002  {'nm0150462': 2.0999999999999996, 'nm0000007':...\n",
       "2        nm0000003  {'nm0131001': 4.3, 'nm0894677': 4.3, 'nm018135...\n",
       "3        nm0000004  {'nm0161443': 3.2, 'nm0000101': 2.099999999999...\n",
       "4        nm0000005  {'nm0090956': 2.7, 'nm0433512': 2.7, 'nm045803...\n",
       "...            ...                                                ...\n",
       "1131849  nm9993613  {'nm10720286': 4.0, 'nm5063862': 4.0, 'nm35495...\n",
       "1131850  nm9993616  {'nm1391663': 3.5, 'nm7444538': 3.5, 'nm049125...\n",
       "1131851  nm9993650  {'nm7144368': 4.8, 'nm2066212': 4.8, 'nm069022...\n",
       "1131852  nm9993690  {'nm7815539': 3.5, 'nm1666585': 3.5, 'nm999369...\n",
       "1131853  nm9993691  {'nm7815539': 3.5, 'nm1666585': 3.5, 'nm780397...\n",
       "\n",
       "[1131854 rows x 2 columns]"
      ]
     },
     "execution_count": 2,
     "metadata": {},
     "output_type": "execute_result"
    }
   ],
   "source": [
    "graph=pd.read_csv('../data/graph.tsv', sep='\\t')\n",
    "graph=graph.loc[:, ~graph.columns.str.contains('^Unnamed')]\n",
    "graph"
   ]
  },
  {
   "cell_type": "code",
   "execution_count": null,
   "metadata": {},
   "outputs": [],
   "source": []
  },
  {
   "cell_type": "code",
   "execution_count": null,
   "metadata": {},
   "outputs": [],
   "source": [
    "graph['values']=graph['values'].apply(lambda x: ast.literal_eval(x))\n",
    "graph['values']=graph['values'].apply(lambda x: list(x.items()))\n",
    "graph"
   ]
  },
  {
   "cell_type": "code",
   "execution_count": null,
   "metadata": {},
   "outputs": [],
   "source": []
  },
  {
   "cell_type": "code",
   "execution_count": null,
   "metadata": {},
   "outputs": [],
   "source": []
  },
  {
   "cell_type": "code",
   "execution_count": null,
   "metadata": {},
   "outputs": [],
   "source": [
    "new_graph=graph.explode('values')\n",
    "new_graph"
   ]
  },
  {
   "cell_type": "code",
   "execution_count": null,
   "metadata": {},
   "outputs": [],
   "source": [
    "#Multi-indexing \n",
    "new_graph[[\"to_node\", \"value\"]]= pd.DataFrame(new_graph[\"values\"].values.tolist(), index=new_graph.index)\n",
    "new_graph.drop(columns=[\"values\"], inplace=True)\n",
    "new_graph.set_index(keys=[\"key\", \"to_node\"], drop= True, inplace=True)"
   ]
  },
  {
   "cell_type": "code",
   "execution_count": null,
   "metadata": {},
   "outputs": [],
   "source": []
  },
  {
   "cell_type": "code",
   "execution_count": null,
   "metadata": {},
   "outputs": [],
   "source": []
  },
  {
   "cell_type": "code",
   "execution_count": null,
   "metadata": {},
   "outputs": [],
   "source": [
    "new_graph"
   ]
  },
  {
   "cell_type": "code",
   "execution_count": null,
   "metadata": {},
   "outputs": [],
   "source": [
    "new_graph.loc['nm0762263','nm0544987']"
   ]
  },
  {
   "cell_type": "code",
   "execution_count": null,
   "metadata": {},
   "outputs": [],
   "source": []
  },
  {
   "cell_type": "code",
   "execution_count": null,
   "metadata": {},
   "outputs": [],
   "source": []
  },
  {
   "cell_type": "code",
   "execution_count": null,
   "metadata": {},
   "outputs": [],
   "source": []
  },
  {
   "cell_type": "code",
   "execution_count": null,
   "metadata": {},
   "outputs": [],
   "source": [
    "path = r'../data' # use your path\n",
    "all_files = glob.glob(path + \"/*_actor3.tsv\")\n",
    "\n",
    "li = []\n",
    "\n",
    "for filename in all_files:\n",
    "    df = pd.read_csv(filename, sep=\"\\t\", header=0)\n",
    "    li.append(df)"
   ]
  },
  {
   "cell_type": "code",
   "execution_count": null,
   "metadata": {},
   "outputs": [],
   "source": []
  },
  {
   "cell_type": "code",
   "execution_count": null,
   "metadata": {},
   "outputs": [],
   "source": [
    "IDs=[]\n",
    "for i in range(len(li)):\n",
    "    ids=[]\n",
    "    for j in range(len(li[i])):\n",
    "        ids.append((li[i].iloc[j])[0])\n",
    "    IDs.append(ids)\n",
    "IDs"
   ]
  },
  {
   "cell_type": "code",
   "execution_count": null,
   "metadata": {},
   "outputs": [],
   "source": []
  },
  {
   "cell_type": "code",
   "execution_count": null,
   "metadata": {},
   "outputs": [],
   "source": []
  },
  {
   "cell_type": "code",
   "execution_count": null,
   "metadata": {},
   "outputs": [],
   "source": []
  },
  {
   "cell_type": "code",
   "execution_count": null,
   "metadata": {},
   "outputs": [],
   "source": [
    "def relation_score(a,b,new_graph):\n",
    "    \n",
    "    #Checking if a and b have acted together\n",
    "    d=(new_graph.loc[a]).to_dict()\n",
    "    to_node=[]\n",
    "    for k,v in d.items():\n",
    "        for l,m in v.items():\n",
    "            to_node.append(l)\n",
    "\n",
    "    if b in to_node:\n",
    "        #This is the starting step\n",
    "        step = {\n",
    "            \"node\": a,\n",
    "            \"value\": 0,\n",
    "            \"distance\": 0,\n",
    "            \"values\": [],\n",
    "            \"cost\": 0,\n",
    "            \"prev\": \"\"\n",
    "        }\n",
    "\n",
    "        # This is all of the nodes we already found the shortest path to\n",
    "        finished = {}\n",
    "        # This is the next steps to consider\n",
    "        queue = [step]\n",
    "        # This is basically Dijkstra's shortest path algorithm\n",
    "        while len(queue) > 0:\n",
    "            # Take the node with the lowest cost\n",
    "            queue.sort(key=lambda x: x[\"cost\"], reverse=True)\n",
    "            current = queue.pop()\n",
    "            # When you take a node from the queue it means that you have found the shortest path to that node.\n",
    "            finished[current[\"node\"]] = current\n",
    "            #print(\"Looking at \" + current[\"node\"] + \", distance: \" + str(current[\"distance\"]) + \", cost: \" + str(current[\"cost\"]))\n",
    "            # Stop when we find b\n",
    "            if current[\"node\"] == b:\n",
    "                #print(\"Found path to {} :D\".format(b))\n",
    "                break\n",
    "            # The distance to the next nodes is 1 more than the distance to this node\n",
    "            new_dist = current[\"distance\"] + 1\n",
    "            # Values is a list of the graph values so that we can calculate the average when we are calculating the cost\n",
    "            new_values = current[\"values\"]\n",
    "            # Find all of the edges from this node to it's neighbours as dict\n",
    "            d=(new_graph.loc[a]).to_dict()\n",
    "            for k,v in d.items():\n",
    "                edges=v   \n",
    "            for edge in edges:\n",
    "                # If the edge is in finished it means that we already found a shorter path to that node\n",
    "                if finished.get(edge): continue\n",
    "                val = edges[edge]\n",
    "                vals = new_values + [val]\n",
    "                # Our scores (genre_score, similarity) are between 0 and 10. So we want this score to be in that range aswell.\n",
    "                # The distance (11 - new_dist) means that shorter paths are preferred, A->B->C=9 instead of A->E->F->C=8.\n",
    "                # (10 - sum(vals)/new_dist) is 10 - avg of the scores from the graph. The graph values are the opposite\n",
    "                # of the rating, so a rating of 7 => 3, 9.5 => 0.5. This is done because we want to find the shortest path between actors.\n",
    "                # If we didn't do this then the path would always try to visit every actor before finding christian. This is why we\n",
    "                # subtract the average of the two numbers from 10. \n",
    "                cost = 10 - (11 - new_dist + 10 - sum(vals)/new_dist) / 2\n",
    "\n",
    "                new_step = {\n",
    "                    \"node\": edge,\n",
    "                    \"value\": val,\n",
    "                    \"distance\": new_dist,\n",
    "                    \"values\": vals,\n",
    "                    \"cost\": cost,\n",
    "                    \"prev\": current[\"node\"]\n",
    "                }\n",
    "\n",
    "                in_queue = False\n",
    "                # Check if it is already in the queue, if it is and this cost is lower it should be updated\n",
    "                for i in range(len(queue)):\n",
    "                    if queue[i][\"node\"] == edge:\n",
    "                        if queue[i][\"cost\"] > new_step[\"cost\"]:\n",
    "                            queue[i] = new_step\n",
    "                        in_queue = True\n",
    "                        break\n",
    "                if in_queue: continue\n",
    "                # If the edge was not in the queue it is added.\n",
    "                queue.append(new_step)\n",
    "\n",
    "\n",
    "        actor = b\n",
    "        path = []\n",
    "        while actor != \"\":\n",
    "            path.append(actor)\n",
    "            actor = finished[actor][\"prev\"]\n",
    "        path = list(reversed(path))\n",
    "        score=(10 - finished[b][\"cost\"])\n",
    "        #print(\"Leonardo-Christian score: \" + str(10 - finished[christian][\"cost\"]))\n",
    "    \n",
    "    else:\n",
    "        score=0\n",
    "\n",
    "    return(score)"
   ]
  },
  {
   "cell_type": "code",
   "execution_count": null,
   "metadata": {},
   "outputs": [],
   "source": []
  },
  {
   "cell_type": "code",
   "execution_count": null,
   "metadata": {},
   "outputs": [],
   "source": []
  },
  {
   "cell_type": "code",
   "execution_count": null,
   "metadata": {},
   "outputs": [],
   "source": [
    "Id_list = list(itertools.product(*IDs))\n",
    "Id_list"
   ]
  },
  {
   "cell_type": "code",
   "execution_count": null,
   "metadata": {},
   "outputs": [],
   "source": [
    "data=pd.DataFrame(Id_list)\n",
    "data"
   ]
  },
  {
   "cell_type": "code",
   "execution_count": null,
   "metadata": {},
   "outputs": [],
   "source": [
    "data.iloc[i]"
   ]
  },
  {
   "cell_type": "code",
   "execution_count": null,
   "metadata": {},
   "outputs": [],
   "source": []
  },
  {
   "cell_type": "code",
   "execution_count": null,
   "metadata": {},
   "outputs": [],
   "source": [
    "%%time\n",
    "score=[]\n",
    "for i in range(len(data)):\n",
    "    x=list(itertools.combinations(list(data.iloc[i]),2))\n",
    "    s=0\n",
    "    for j in range(len(x)):\n",
    "        s=s+relation_score(x[j][0],x[j][1],new_graph)\n",
    "        if s=0:\n",
    "            break\n",
    "        else:\n",
    "            continue\n",
    "    score.append(s/len(x))\n",
    "\n",
    "score"
   ]
  },
  {
   "cell_type": "code",
   "execution_count": null,
   "metadata": {},
   "outputs": [],
   "source": []
  },
  {
   "cell_type": "code",
   "execution_count": null,
   "metadata": {},
   "outputs": [],
   "source": []
  },
  {
   "cell_type": "code",
   "execution_count": null,
   "metadata": {},
   "outputs": [],
   "source": [
    "%%time\n",
    "score=[]\n",
    "for i in range(len(data)):\n",
    "    x=list(itertools.combinations(list(data.iloc[i]),2))\n",
    "    s=0\n",
    "    for j in range(len(x)):\n",
    "        s=s+relation_score(x[j][0],x[j][1],new_graph)\n",
    "    score.append(s/len(x))\n",
    "\n",
    "score"
   ]
  },
  {
   "cell_type": "code",
   "execution_count": null,
   "metadata": {},
   "outputs": [],
   "source": []
  },
  {
   "cell_type": "code",
   "execution_count": null,
   "metadata": {},
   "outputs": [],
   "source": [
    "data['r_score']=score\n",
    "data"
   ]
  },
  {
   "cell_type": "code",
   "execution_count": null,
   "metadata": {},
   "outputs": [],
   "source": []
  },
  {
   "cell_type": "code",
   "execution_count": null,
   "metadata": {},
   "outputs": [],
   "source": [
    "#Removing all zero scored values\n",
    "data=data.loc[(data['r_score']!=0)]\n",
    "#Sorting \n",
    "data=data.sort_values(by='r_score', ascending=False)\n",
    "data"
   ]
  },
  {
   "cell_type": "code",
   "execution_count": null,
   "metadata": {},
   "outputs": [],
   "source": []
  },
  {
   "cell_type": "code",
   "execution_count": null,
   "metadata": {},
   "outputs": [],
   "source": []
  },
  {
   "cell_type": "code",
   "execution_count": null,
   "metadata": {},
   "outputs": [],
   "source": [
    "df=data\n",
    "for i in range(len(li)):\n",
    "    df=pd.merge(df,li[i], how='inner', left_on=i, right_on='Actor ID')\n",
    "    sname=('score_{}'.format(i))\n",
    "    df[sname]=df['score']\n",
    "    df=df.drop(['Actor ID', 'Avg Genre Score', 'summary_score', 'score'], axis=1)\n",
    "df"
   ]
  },
  {
   "cell_type": "code",
   "execution_count": null,
   "metadata": {},
   "outputs": [],
   "source": [
    "sname=[]\n",
    "for i in range(len(li)):\n",
    "    sname.append(('score_{}'.format(i)))\n",
    "    \n",
    "col = df.loc[: , sname]\n",
    "df['gs_score'] = col.mean(axis=1)\n",
    "df"
   ]
  },
  {
   "cell_type": "code",
   "execution_count": null,
   "metadata": {},
   "outputs": [],
   "source": [
    "df['final'] = df[[\"r_score\",\"gs_score\"]].mean(axis=1)\n",
    "col_list=[i for i in range(len(li))]\n",
    "col_list.append('final')\n",
    "final_df=df[col_list]\n",
    "final_df=final_df.sort_values(by='final', ascending=False)\n",
    "final_df"
   ]
  },
  {
   "cell_type": "code",
   "execution_count": null,
   "metadata": {},
   "outputs": [],
   "source": []
  },
  {
   "cell_type": "code",
   "execution_count": null,
   "metadata": {},
   "outputs": [],
   "source": []
  },
  {
   "cell_type": "code",
   "execution_count": null,
   "metadata": {},
   "outputs": [],
   "source": []
  },
  {
   "cell_type": "code",
   "execution_count": null,
   "metadata": {},
   "outputs": [],
   "source": []
  },
  {
   "cell_type": "code",
   "execution_count": null,
   "metadata": {},
   "outputs": [],
   "source": []
  },
  {
   "cell_type": "code",
   "execution_count": null,
   "metadata": {},
   "outputs": [],
   "source": []
  },
  {
   "cell_type": "code",
   "execution_count": null,
   "metadata": {},
   "outputs": [],
   "source": []
  },
  {
   "cell_type": "code",
   "execution_count": null,
   "metadata": {},
   "outputs": [],
   "source": [
    "%%time\n",
    "#All of the {}_actor.tsv with each other \n",
    "Id1=[]\n",
    "Id2=[]\n",
    "score=[]\n",
    "for i in range(len(IDs)):\n",
    "    for j in range(len(IDs[i])):\n",
    "        for m in range(i+1,len(IDs)):\n",
    "            if (i+1)<(len(IDs)):\n",
    "                for k in range(len(IDs[m])):\n",
    "                    a=IDs[i][j]\n",
    "                    b=IDs[m][k]\n",
    "                    Id1.append(a)\n",
    "                    Id2.append(b)\n",
    "                    score.append(relation_score(a,b,new_graph))\n",
    "                    #Id.append(dic)\n"
   ]
  },
  {
   "cell_type": "code",
   "execution_count": null,
   "metadata": {},
   "outputs": [],
   "source": []
  },
  {
   "cell_type": "code",
   "execution_count": null,
   "metadata": {},
   "outputs": [],
   "source": [
    "ar=[Id1,Id2]"
   ]
  },
  {
   "cell_type": "code",
   "execution_count": null,
   "metadata": {},
   "outputs": [],
   "source": [
    "tup = list(zip(*ar))"
   ]
  },
  {
   "cell_type": "code",
   "execution_count": null,
   "metadata": {},
   "outputs": [],
   "source": [
    "index = pd.MultiIndex.from_tuples(tup, names=['ID1', 'ID2'])"
   ]
  },
  {
   "cell_type": "code",
   "execution_count": null,
   "metadata": {},
   "outputs": [],
   "source": [
    "rel=pd.DataFrame({'r_score':score},index=index)\n",
    "rel"
   ]
  },
  {
   "cell_type": "code",
   "execution_count": null,
   "metadata": {},
   "outputs": [],
   "source": [
    "#Removing all zero scored values\n",
    "r=rel.loc[(rel['r_score']!=0)]\n",
    "#Sorting \n",
    "r=r.sort_values(by='r_score', ascending=False)\n",
    "r"
   ]
  },
  {
   "cell_type": "code",
   "execution_count": null,
   "metadata": {},
   "outputs": [],
   "source": []
  },
  {
   "cell_type": "code",
   "execution_count": null,
   "metadata": {},
   "outputs": [],
   "source": [
    "r.loc['nm0695177']"
   ]
  },
  {
   "cell_type": "code",
   "execution_count": null,
   "metadata": {},
   "outputs": [],
   "source": []
  },
  {
   "cell_type": "code",
   "execution_count": null,
   "metadata": {},
   "outputs": [],
   "source": []
  },
  {
   "cell_type": "code",
   "execution_count": null,
   "metadata": {},
   "outputs": [],
   "source": []
  },
  {
   "cell_type": "code",
   "execution_count": null,
   "metadata": {},
   "outputs": [],
   "source": [
    "pd.merge(li[0],li[1], how='outer', left_on='Actor ID', right_on='Actor ID')"
   ]
  },
  {
   "cell_type": "code",
   "execution_count": null,
   "metadata": {},
   "outputs": [],
   "source": []
  },
  {
   "cell_type": "code",
   "execution_count": null,
   "metadata": {},
   "outputs": [],
   "source": []
  },
  {
   "cell_type": "code",
   "execution_count": null,
   "metadata": {},
   "outputs": [],
   "source": []
  },
  {
   "cell_type": "code",
   "execution_count": null,
   "metadata": {},
   "outputs": [],
   "source": []
  },
  {
   "cell_type": "code",
   "execution_count": null,
   "metadata": {},
   "outputs": [],
   "source": []
  },
  {
   "cell_type": "code",
   "execution_count": null,
   "metadata": {},
   "outputs": [],
   "source": []
  },
  {
   "cell_type": "code",
   "execution_count": null,
   "metadata": {},
   "outputs": [],
   "source": []
  },
  {
   "cell_type": "code",
   "execution_count": null,
   "metadata": {},
   "outputs": [],
   "source": []
  },
  {
   "cell_type": "code",
   "execution_count": null,
   "metadata": {},
   "outputs": [],
   "source": []
  },
  {
   "cell_type": "code",
   "execution_count": null,
   "metadata": {},
   "outputs": [],
   "source": []
  },
  {
   "cell_type": "code",
   "execution_count": null,
   "metadata": {},
   "outputs": [],
   "source": []
  },
  {
   "cell_type": "code",
   "execution_count": null,
   "metadata": {},
   "outputs": [],
   "source": []
  },
  {
   "cell_type": "code",
   "execution_count": null,
   "metadata": {},
   "outputs": [],
   "source": []
  },
  {
   "cell_type": "code",
   "execution_count": null,
   "metadata": {},
   "outputs": [],
   "source": []
  },
  {
   "cell_type": "code",
   "execution_count": null,
   "metadata": {},
   "outputs": [],
   "source": [
    "len(r.index.get_level_values(1).unique())"
   ]
  },
  {
   "cell_type": "code",
   "execution_count": null,
   "metadata": {},
   "outputs": [],
   "source": [
    "len(r.index.get_level_values(0).unique())"
   ]
  },
  {
   "cell_type": "code",
   "execution_count": null,
   "metadata": {},
   "outputs": [],
   "source": [
    "r.index.get_level_values(1).unique()"
   ]
  },
  {
   "cell_type": "code",
   "execution_count": null,
   "metadata": {},
   "outputs": [],
   "source": [
    "r.index.get_level_values(0).unique()"
   ]
  },
  {
   "cell_type": "code",
   "execution_count": null,
   "metadata": {},
   "outputs": [],
   "source": []
  },
  {
   "cell_type": "code",
   "execution_count": null,
   "metadata": {},
   "outputs": [],
   "source": []
  },
  {
   "cell_type": "code",
   "execution_count": null,
   "metadata": {},
   "outputs": [],
   "source": []
  },
  {
   "cell_type": "code",
   "execution_count": null,
   "metadata": {},
   "outputs": [],
   "source": []
  },
  {
   "cell_type": "code",
   "execution_count": null,
   "metadata": {},
   "outputs": [],
   "source": [
    "r=pd.DataFrame({'ID_1':Id1,'ID_2': Id2,'r_score':score}).sort_values(by='r_score', ascending=False)\n",
    "r"
   ]
  },
  {
   "cell_type": "code",
   "execution_count": null,
   "metadata": {},
   "outputs": [],
   "source": [
    "#Removing all zero scored values\n",
    "re=r.loc[(r['r_score']!=0)]\n",
    "re"
   ]
  },
  {
   "cell_type": "code",
   "execution_count": null,
   "metadata": {},
   "outputs": [],
   "source": []
  },
  {
   "cell_type": "code",
   "execution_count": null,
   "metadata": {},
   "outputs": [],
   "source": []
  },
  {
   "cell_type": "code",
   "execution_count": null,
   "metadata": {},
   "outputs": [],
   "source": []
  },
  {
   "cell_type": "code",
   "execution_count": null,
   "metadata": {},
   "outputs": [],
   "source": []
  },
  {
   "cell_type": "code",
   "execution_count": null,
   "metadata": {},
   "outputs": [],
   "source": []
  },
  {
   "cell_type": "code",
   "execution_count": null,
   "metadata": {},
   "outputs": [],
   "source": []
  },
  {
   "cell_type": "code",
   "execution_count": null,
   "metadata": {},
   "outputs": [],
   "source": []
  },
  {
   "cell_type": "code",
   "execution_count": null,
   "metadata": {},
   "outputs": [],
   "source": [
    "re.groupby(['ID_1','r_score'])['ID_2'].apply(list).reset_index()"
   ]
  },
  {
   "cell_type": "code",
   "execution_count": null,
   "metadata": {},
   "outputs": [],
   "source": []
  },
  {
   "cell_type": "code",
   "execution_count": null,
   "metadata": {},
   "outputs": [],
   "source": []
  },
  {
   "cell_type": "code",
   "execution_count": null,
   "metadata": {},
   "outputs": [],
   "source": []
  },
  {
   "cell_type": "code",
   "execution_count": null,
   "metadata": {},
   "outputs": [],
   "source": []
  },
  {
   "cell_type": "code",
   "execution_count": null,
   "metadata": {},
   "outputs": [],
   "source": [
    "df1=pd.merge(li[0],re, how='inner', left_on='Actor ID', right_on='ID_1')\n",
    "df1"
   ]
  },
  {
   "cell_type": "code",
   "execution_count": null,
   "metadata": {},
   "outputs": [],
   "source": [
    "dfx=df1.drop(['ID_1'], axis=1)\n",
    "dfx"
   ]
  },
  {
   "cell_type": "code",
   "execution_count": null,
   "metadata": {},
   "outputs": [],
   "source": [
    "dfx['ID_1']=dfx['ID_2']\n",
    "dfx=dfx.drop(['ID_2'],axis=1)\n",
    "dfx"
   ]
  },
  {
   "cell_type": "code",
   "execution_count": null,
   "metadata": {},
   "outputs": [],
   "source": [
    "dfy = pd.merge(dfx,re)\n",
    "dfy"
   ]
  },
  {
   "cell_type": "code",
   "execution_count": null,
   "metadata": {},
   "outputs": [],
   "source": []
  },
  {
   "cell_type": "code",
   "execution_count": null,
   "metadata": {},
   "outputs": [],
   "source": []
  },
  {
   "cell_type": "code",
   "execution_count": null,
   "metadata": {},
   "outputs": [],
   "source": []
  },
  {
   "cell_type": "code",
   "execution_count": null,
   "metadata": {},
   "outputs": [],
   "source": []
  },
  {
   "cell_type": "code",
   "execution_count": null,
   "metadata": {},
   "outputs": [],
   "source": []
  },
  {
   "cell_type": "code",
   "execution_count": null,
   "metadata": {},
   "outputs": [],
   "source": []
  },
  {
   "cell_type": "code",
   "execution_count": null,
   "metadata": {},
   "outputs": [],
   "source": []
  },
  {
   "cell_type": "code",
   "execution_count": null,
   "metadata": {},
   "outputs": [],
   "source": []
  },
  {
   "cell_type": "code",
   "execution_count": null,
   "metadata": {},
   "outputs": [],
   "source": [
    "df1=df1.groupby(['Actor ID','score_x','score_y'])['ID_2'].apply(list).reset_index()\n",
    "df1"
   ]
  },
  {
   "cell_type": "code",
   "execution_count": null,
   "metadata": {},
   "outputs": [],
   "source": [
    "df1['ID_2']"
   ]
  },
  {
   "cell_type": "code",
   "execution_count": null,
   "metadata": {},
   "outputs": [],
   "source": []
  },
  {
   "cell_type": "code",
   "execution_count": null,
   "metadata": {},
   "outputs": [],
   "source": []
  },
  {
   "cell_type": "code",
   "execution_count": null,
   "metadata": {},
   "outputs": [],
   "source": []
  },
  {
   "cell_type": "code",
   "execution_count": null,
   "metadata": {},
   "outputs": [],
   "source": []
  },
  {
   "cell_type": "code",
   "execution_count": null,
   "metadata": {},
   "outputs": [],
   "source": []
  },
  {
   "cell_type": "code",
   "execution_count": null,
   "metadata": {},
   "outputs": [],
   "source": [
    "li[0]"
   ]
  },
  {
   "cell_type": "code",
   "execution_count": null,
   "metadata": {},
   "outputs": [],
   "source": []
  },
  {
   "cell_type": "code",
   "execution_count": null,
   "metadata": {},
   "outputs": [],
   "source": [
    "li[1]"
   ]
  },
  {
   "cell_type": "code",
   "execution_count": null,
   "metadata": {},
   "outputs": [],
   "source": []
  },
  {
   "cell_type": "code",
   "execution_count": null,
   "metadata": {},
   "outputs": [],
   "source": [
    "li[2]"
   ]
  },
  {
   "cell_type": "code",
   "execution_count": null,
   "metadata": {},
   "outputs": [],
   "source": []
  },
  {
   "cell_type": "code",
   "execution_count": null,
   "metadata": {},
   "outputs": [],
   "source": []
  },
  {
   "cell_type": "code",
   "execution_count": null,
   "metadata": {},
   "outputs": [],
   "source": []
  },
  {
   "cell_type": "code",
   "execution_count": null,
   "metadata": {},
   "outputs": [],
   "source": []
  }
 ],
 "metadata": {
  "kernelspec": {
   "display_name": "Python 3",
   "language": "python",
   "name": "python3"
  },
  "language_info": {
   "codemirror_mode": {
    "name": "ipython",
    "version": 3
   },
   "file_extension": ".py",
   "mimetype": "text/x-python",
   "name": "python",
   "nbconvert_exporter": "python",
   "pygments_lexer": "ipython3",
   "version": "3.7.6"
  }
 },
 "nbformat": 4,
 "nbformat_minor": 4
}
