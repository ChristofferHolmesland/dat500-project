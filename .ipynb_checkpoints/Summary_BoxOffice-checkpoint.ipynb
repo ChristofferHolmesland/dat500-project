{
 "cells": [
  {
   "cell_type": "code",
   "execution_count": 52,
   "metadata": {},
   "outputs": [],
   "source": [
    "import pandas as pd\n",
    "import numpy as np\n",
    "import gzip\n",
    "from imdb import IMDb\n",
    "\n",
    "\n",
    "from bs4 import BeautifulSoup\n",
    "import bs4\n",
    "import requests\n",
    "import re\n",
    "import random\n",
    "\n",
    "im = IMDb()"
   ]
  },
  {
   "cell_type": "code",
   "execution_count": 2,
   "metadata": {},
   "outputs": [],
   "source": [
    "#title_filepath='name.basics.tsv.gz'\n",
    "file_path='C:/Users/malav/Desktop/dat500-project/title.tsv'"
   ]
  },
  {
   "cell_type": "code",
   "execution_count": 3,
   "metadata": {},
   "outputs": [],
   "source": [
    "\n",
    "#Extracting titleIDs from title_filepath\n",
    "t_ids=[]\n",
    "def get_ids(file_path):\n",
    "    data=pd.read_csv(file_path,delimiter='\\t')\n",
    "    for i in data['tconst']:\n",
    "        t_ids.append(str(i[2:9]))\n",
    "    return(t_ids)"
   ]
  },
  {
   "cell_type": "code",
   "execution_count": 79,
   "metadata": {},
   "outputs": [],
   "source": [
    "#Title summary (web scraped)\n",
    "def get_summary(url):\n",
    "    s=[]\n",
    "    movie_page = requests.get(url)\n",
    "    soup = BeautifulSoup(movie_page.text, 'html.parser')\n",
    "    if (soup.find(\"div\", class_=\"summary_text\").contents):\n",
    "        for i,text in enumerate(soup.find(\"div\", class_=\"summary_text\").contents):\n",
    "            if (type(text)) != bs4.element.NavigableString:\n",
    "                s.append((soup.find(\"div\", class_=\"summary_text\").contents)[i].contents[0])\n",
    "            else:\n",
    "                s.append((soup.find(\"div\", class_=\"summary_text\").contents)[i])\n",
    "    return (\"\".join(s))"
   ]
  },
  {
   "cell_type": "code",
   "execution_count": 80,
   "metadata": {},
   "outputs": [
    {
     "data": {
      "text/plain": [
       "\"\\n                    A man (Thomas Edison's assistant) takes a pinch of snuff and sneezes. This is one of the earliest Thomas Edison films and was the first motion picture to be copyrighted in the United States.\\n            \""
      ]
     },
     "execution_count": 80,
     "metadata": {},
     "output_type": "execute_result"
    }
   ],
   "source": [
    "get_summary('https://www.imdb.com/title/tt0000008')"
   ]
  },
  {
   "cell_type": "code",
   "execution_count": 11,
   "metadata": {},
   "outputs": [
    {
     "data": {
      "text/plain": [
       "['Thomas Edison']"
      ]
     },
     "execution_count": 11,
     "metadata": {},
     "output_type": "execute_result"
    }
   ],
   "source": [
    "get_summary('https://www.imdb.com/title/tt0000008')[1].contents"
   ]
  },
  {
   "cell_type": "code",
   "execution_count": 5,
   "metadata": {},
   "outputs": [],
   "source": [
    "#Box office collection (web scraped)\n",
    "def box_office(url):\n",
    "    movie_page = requests.get(url)\n",
    "    soup = BeautifulSoup(movie_page.text, 'html.parser')\n",
    "    for a in soup.find_all(\"div\", class_=\"txt-block\"):\n",
    "        if len(a.contents) > 2:\n",
    "            for i in a.contents[1]:\n",
    "                if i == 'Cumulative Worldwide Gross:':\n",
    "                    return(a.contents[2])\n",
    "                else:\n",
    "                    return('-')"
   ]
  },
  {
   "cell_type": "code",
   "execution_count": 6,
   "metadata": {},
   "outputs": [],
   "source": [
    "# 1) get_ids()\n",
    "t_ids=get_ids(file_path)"
   ]
  },
  {
   "cell_type": "code",
   "execution_count": 8,
   "metadata": {},
   "outputs": [
    {
     "name": "stdout",
     "output_type": "stream",
     "text": [
      "\n",
      "\n",
      "\n",
      "\n",
      "\n",
      "\n",
      "\n",
      "\n",
      "\n",
      "\n"
     ]
    }
   ],
   "source": [
    "data=[]\n",
    "\n",
    "# 3) get_summary() and box_office()\n",
    "\n",
    "\n",
    "for ID in t_ids[:10]:\n",
    "    name=(im.get_movie(ID)['title'])\n",
    "    url='https://www.imdb.com/title/tt'+ID\n",
    "    summ=(get_summary(url))\n",
    "    bo=(box_office(url))\n",
    "    print()\n",
    "    data.append(['tt'+ID,summ,bo])\n",
    "\n",
    "df=pd.DataFrame(data)\n",
    "df.columns=['tconst','Movie Summary','Box Office Collection']\n",
    "df.to_csv('C:/Users/malav/Desktop/dat500-project/Summary_BO.tsv', sep = '\\t')"
   ]
  },
  {
   "cell_type": "code",
   "execution_count": null,
   "metadata": {},
   "outputs": [],
   "source": []
  }
 ],
 "metadata": {
  "kernelspec": {
   "display_name": "Python 3",
   "language": "python",
   "name": "python3"
  },
  "language_info": {
   "codemirror_mode": {
    "name": "ipython",
    "version": 3
   },
   "file_extension": ".py",
   "mimetype": "text/x-python",
   "name": "python",
   "nbconvert_exporter": "python",
   "pygments_lexer": "ipython3",
   "version": "3.7.4"
  }
 },
 "nbformat": 4,
 "nbformat_minor": 2
}
